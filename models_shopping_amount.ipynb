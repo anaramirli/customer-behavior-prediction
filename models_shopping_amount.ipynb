{
 "cells": [
  {
   "cell_type": "code",
   "execution_count": 1,
   "metadata": {
    "scrolled": false
   },
   "outputs": [
    {
     "name": "stderr",
     "output_type": "stream",
     "text": [
      "Using TensorFlow backend.\n"
     ]
    }
   ],
   "source": [
    "import pandas as pd\n",
    "import math\n",
    "import numpy as np\n",
    "import matplotlib.pyplot as mplt\n",
    "from keras.utils import np_utils\n",
    "\n",
    "from sklearn.model_selection import train_test_split\n",
    "from keras.wrappers.scikit_learn import KerasClassifier\n",
    "from sklearn.model_selection import GridSearchCV\n",
    "from sklearn.model_selection import KFold\n",
    "from keras.models import Sequential\n",
    "from keras.layers import Dense, Dropout\n",
    "from sklearn.preprocessing import OneHotEncoder, OrdinalEncoder, LabelEncoder\n",
    "from sklearn.compose import ColumnTransformer\n",
    "from sklearn.pipeline import Pipeline\n",
    "from sklearn.preprocessing import StandardScaler, MinMaxScaler\n",
    "from sklearn.ensemble import RandomForestRegressor\n",
    "from sklearn.metrics import mean_absolute_error\n",
    "from sklearn.model_selection import cross_val_score"
   ]
  },
  {
   "cell_type": "markdown",
   "metadata": {},
   "source": [
    "Here we'll try out different models on both feature selected and complete dataset. "
   ]
  },
  {
   "cell_type": "code",
   "execution_count": 6,
   "metadata": {},
   "outputs": [
    {
     "name": "stdout",
     "output_type": "stream",
     "text": [
      "dataset shape: (165, 23)\n",
      "\n",
      "<class 'pandas.core.frame.DataFrame'>\n",
      "RangeIndex: 165 entries, 0 to 164\n",
      "Data columns (total 23 columns):\n",
      "Id                                165 non-null int64\n",
      "age                               165 non-null int64\n",
      "gender                            165 non-null object\n",
      "BMI                               165 non-null float64\n",
      "sleeping_time                     165 non-null float64\n",
      "sporting_activity_(h/week)        165 non-null float64\n",
      "daytime                           165 non-null object\n",
      "outdoor_temperature               165 non-null int64\n",
      "shopping_cart                     165 non-null object\n",
      "attendants                        165 non-null object\n",
      "shopping_frequency                165 non-null object\n",
      "cash_point                        165 non-null object\n",
      "shopping_amount                   165 non-null object\n",
      "weekday                           165 non-null object\n",
      "smoking                           165 non-null int64\n",
      "ex_max                            165 non-null int64\n",
      "ex_min                            165 non-null int64\n",
      "hr_max                            165 non-null int64\n",
      "max_time                          165 non-null int64\n",
      "hr_min                            165 non-null int64\n",
      "min_time                          165 non-null int64\n",
      "shopping duration (in minutes)    165 non-null int64\n",
      "reaching HRmax                    165 non-null int64\n",
      "dtypes: float64(3), int64(12), object(8)\n",
      "memory usage: 29.8+ KB\n"
     ]
    }
   ],
   "source": [
    "dataset = pd.read_csv ('dataset/Dataset_heart rate_retail stores.csv')\n",
    "print(\"dataset shape: ({}, {})\\n\".format(*dataset.shape))\n",
    "dataset.info()"
   ]
  },
  {
   "cell_type": "markdown",
   "metadata": {},
   "source": [
    "## DATASET\n",
    "\n",
    "Here we'll work on two datasets. The first is the complete dataset which contains all the features, the second one contains only the feature selected based on our statistical test on shopping amount.\n",
    "\n",
    "\n",
    "### FEATURE SELECTION\n",
    "\n",
    "Here we'll do initial feature selection based on the statistical test results we found on the response variable and create a new dataset.\n",
    "\n",
    "Overview of what we'll do:\n",
    "\n",
    "* Categorical: \n",
    "    * reaching HRmax\n",
    "    * shopping_cart\n",
    "    * attendants: divide into two groups, no and the rest.\n",
    "    \n",
    "* Continious\n",
    "    * shopping_duration\n",
    "    * hr_max\n",
    "    * max_time\n",
    "    * min_time\n",
    "    \n",
    "* Drop\n",
    "    * The remaining features found to be not important on capturing information about shopping duration, this we'll drop them."
   ]
  },
  {
   "cell_type": "code",
   "execution_count": 7,
   "metadata": {},
   "outputs": [],
   "source": [
    "# include our model. here we'll use it for removing outliers.\n",
    "\n",
    "from modules.StatUtils import *\n",
    "\n",
    "statUtils = StatUtils()"
   ]
  },
  {
   "cell_type": "code",
   "execution_count": 8,
   "metadata": {},
   "outputs": [],
   "source": [
    "# remove id and rename shopping duration\n",
    "dataset = dataset.drop('Id', axis=1) \n",
    "dataset = dataset.rename(columns = {'shopping duration (in minutes)':'shop_dur'})"
   ]
  },
  {
   "cell_type": "markdown",
   "metadata": {},
   "source": [
    "#### Balance of classification: \n",
    "check wherer the number of examples in each class is unequally distributed."
   ]
  },
  {
   "cell_type": "code",
   "execution_count": 9,
   "metadata": {},
   "outputs": [
    {
     "name": "stdout",
     "output_type": "stream",
     "text": [
      "less\t\t61\t36.97%\n",
      "normal\t\t58\t35.15%\n",
      "heavy\t\t28\t16.97%\n",
      "bag full\t\t18\t10.91%\n"
     ]
    }
   ],
   "source": [
    "class_count = pd.value_counts(dataset['shopping_amount'])\n",
    "\n",
    "for c in range(len(class_count)):\n",
    "    print('{}\\t\\t{}\\t{:.2f}%'.format(class_count.index[c], \n",
    "                            class_count.values[c], \n",
    "                            100*class_count.values[c]/sum(class_count)))"
   ]
  },
  {
   "cell_type": "markdown",
   "metadata": {},
   "source": [
    "Now we can seet that balance of classes are valid for classifications."
   ]
  },
  {
   "cell_type": "markdown",
   "metadata": {},
   "source": [
    "#### Create normal and feature selected dataset"
   ]
  },
  {
   "cell_type": "code",
   "execution_count": 10,
   "metadata": {},
   "outputs": [],
   "source": [
    "# divide attendants into two new groups\n",
    "dataset.loc[dataset.attendants != \"no\", \"attendants\"] = \"yes\"\n",
    "\n",
    "# get selected feautes\n",
    "df_selected = dataset[['shopping_amount', 'shop_dur', 'hr_max', 'max_time', \\\n",
    "                       'min_time', 'shopping_cart', 'attendants', 'reaching HRmax' ]]\n",
    "\n",
    "# get all the features\n",
    "df_normal = dataset"
   ]
  },
  {
   "cell_type": "code",
   "execution_count": 11,
   "metadata": {},
   "outputs": [
    {
     "name": "stderr",
     "output_type": "stream",
     "text": [
      "C:\\ProgramData\\Anaconda3\\lib\\site-packages\\pandas\\core\\frame.py:4102: SettingWithCopyWarning: \n",
      "A value is trying to be set on a copy of a slice from a DataFrame\n",
      "\n",
      "See the caveats in the documentation: http://pandas.pydata.org/pandas-docs/stable/user_guide/indexing.html#returning-a-view-versus-a-copy\n",
      "  errors=errors,\n"
     ]
    }
   ],
   "source": [
    "# remove outliers in continious vars for feature selected df:\n",
    "for feature in ['shop_dur', 'hr_max', 'min_time', 'max_time']:\n",
    "    df_selected = statUtils.remove_outliers(df_selected, feature)\n",
    "    \n",
    "# do the same for the normal df\n",
    "for feature in ['shop_dur', 'hr_max', 'min_time', 'max_time', 'ex_min', \\\n",
    "               'age', 'BMI', 'sleeping_time', 'outdoor_temperature', 'ex_max']:\n",
    "    df_normal = statUtils.remove_outliers(df_normal, feature)"
   ]
  },
  {
   "cell_type": "code",
   "execution_count": 12,
   "metadata": {},
   "outputs": [],
   "source": [
    "# after removing outliers now we can get traget vars\n",
    "\n",
    "y_selected = df_selected['shopping_amount'].values\n",
    "df_selected = df_selected.drop('shopping_amount', axis=1)\n",
    "\n",
    "y_normal = df_normal['shopping_amount'].values\n",
    "df_normal = df_normal.drop('shopping_amount', axis=1)"
   ]
  },
  {
   "cell_type": "markdown",
   "metadata": {},
   "source": [
    "## Preprocessing"
   ]
  },
  {
   "cell_type": "markdown",
   "metadata": {},
   "source": [
    "We can see that ***daytime***, ***shopping_chart***, ***shopping_frequency***, ***cahs_point***, ***weekday*** has the sense of ordering. So we'll use orinal encoding to have a natural ordered relationship between each other values so the model may be able to understand and harness this relationship. Although the sense of order doesn't exist both for ***attendants*** and ***gender***, will use binary encoding as they only contain two categories"
   ]
  },
  {
   "cell_type": "markdown",
   "metadata": {},
   "source": [
    "#### for feature selected df"
   ]
  },
  {
   "cell_type": "code",
   "execution_count": 13,
   "metadata": {},
   "outputs": [
    {
     "data": {
      "text/html": [
       "<div>\n",
       "<style scoped>\n",
       "    .dataframe tbody tr th:only-of-type {\n",
       "        vertical-align: middle;\n",
       "    }\n",
       "\n",
       "    .dataframe tbody tr th {\n",
       "        vertical-align: top;\n",
       "    }\n",
       "\n",
       "    .dataframe thead th {\n",
       "        text-align: right;\n",
       "    }\n",
       "</style>\n",
       "<table border=\"1\" class=\"dataframe\">\n",
       "  <thead>\n",
       "    <tr style=\"text-align: right;\">\n",
       "      <th></th>\n",
       "      <th>shop_dur</th>\n",
       "      <th>hr_max</th>\n",
       "      <th>max_time</th>\n",
       "      <th>min_time</th>\n",
       "      <th>shopping_cart</th>\n",
       "      <th>attendants</th>\n",
       "      <th>reaching HRmax</th>\n",
       "    </tr>\n",
       "  </thead>\n",
       "  <tbody>\n",
       "    <tr>\n",
       "      <td>0</td>\n",
       "      <td>12</td>\n",
       "      <td>95</td>\n",
       "      <td>8</td>\n",
       "      <td>4</td>\n",
       "      <td>0.0</td>\n",
       "      <td>0.0</td>\n",
       "      <td>0</td>\n",
       "    </tr>\n",
       "    <tr>\n",
       "      <td>1</td>\n",
       "      <td>26</td>\n",
       "      <td>112</td>\n",
       "      <td>24</td>\n",
       "      <td>18</td>\n",
       "      <td>1.0</td>\n",
       "      <td>0.0</td>\n",
       "      <td>0</td>\n",
       "    </tr>\n",
       "    <tr>\n",
       "      <td>2</td>\n",
       "      <td>24</td>\n",
       "      <td>115</td>\n",
       "      <td>18</td>\n",
       "      <td>20</td>\n",
       "      <td>0.0</td>\n",
       "      <td>0.0</td>\n",
       "      <td>0</td>\n",
       "    </tr>\n",
       "    <tr>\n",
       "      <td>3</td>\n",
       "      <td>46</td>\n",
       "      <td>122</td>\n",
       "      <td>26</td>\n",
       "      <td>41</td>\n",
       "      <td>1.0</td>\n",
       "      <td>1.0</td>\n",
       "      <td>0</td>\n",
       "    </tr>\n",
       "    <tr>\n",
       "      <td>4</td>\n",
       "      <td>41</td>\n",
       "      <td>120</td>\n",
       "      <td>39</td>\n",
       "      <td>20</td>\n",
       "      <td>1.0</td>\n",
       "      <td>1.0</td>\n",
       "      <td>1</td>\n",
       "    </tr>\n",
       "  </tbody>\n",
       "</table>\n",
       "</div>"
      ],
      "text/plain": [
       "   shop_dur  hr_max  max_time  min_time  shopping_cart  attendants  \\\n",
       "0        12      95         8         4            0.0         0.0   \n",
       "1        26     112        24        18            1.0         0.0   \n",
       "2        24     115        18        20            0.0         0.0   \n",
       "3        46     122        26        41            1.0         1.0   \n",
       "4        41     120        39        20            1.0         1.0   \n",
       "\n",
       "   reaching HRmax  \n",
       "0               0  \n",
       "1               0  \n",
       "2               0  \n",
       "3               0  \n",
       "4               1  "
      ]
     },
     "execution_count": 13,
     "metadata": {},
     "output_type": "execute_result"
    }
   ],
   "source": [
    "for feature in ['attendants', 'shopping_cart']:\n",
    "    df_selected[feature] = OrdinalEncoder().fit_transform(df_selected[feature].values.reshape(-1, 1))\n",
    "    \n",
    "df_selected.head()"
   ]
  },
  {
   "cell_type": "markdown",
   "metadata": {},
   "source": [
    "#### for normal df"
   ]
  },
  {
   "cell_type": "code",
   "execution_count": 14,
   "metadata": {},
   "outputs": [],
   "source": [
    "# do Binary Encoder\n",
    "for feature in ['attendants', 'gender', 'shopping_frequency', 'shopping_cart']:\n",
    "    df_normal[feature] = OrdinalEncoder().fit_transform(df_normal[feature].values.reshape(-1, 1))"
   ]
  },
  {
   "cell_type": "code",
   "execution_count": 15,
   "metadata": {},
   "outputs": [
    {
     "name": "stdout",
     "output_type": "stream",
     "text": [
      "daytime= ['evening' 'morning' 'noon']\n",
      "cash_point= ['free' 'full' 'normal']\n",
      "weekday= ['friday' 'monday' 'saturday' 'thursday' 'tuesday' 'wednesday']\n"
     ]
    }
   ],
   "source": [
    "# get the list of categorical values, aslo include\n",
    "categorical_values = list(df_normal.select_dtypes(include=['object']))\n",
    "\n",
    "for f in categorical_values:\n",
    "    print('{}= {}'.format(f, np.unique(df_normal[f].values)))"
   ]
  },
  {
   "cell_type": "code",
   "execution_count": 16,
   "metadata": {},
   "outputs": [
    {
     "data": {
      "text/html": [
       "<div>\n",
       "<style scoped>\n",
       "    .dataframe tbody tr th:only-of-type {\n",
       "        vertical-align: middle;\n",
       "    }\n",
       "\n",
       "    .dataframe tbody tr th {\n",
       "        vertical-align: top;\n",
       "    }\n",
       "\n",
       "    .dataframe thead th {\n",
       "        text-align: right;\n",
       "    }\n",
       "</style>\n",
       "<table border=\"1\" class=\"dataframe\">\n",
       "  <thead>\n",
       "    <tr style=\"text-align: right;\">\n",
       "      <th></th>\n",
       "      <th>age</th>\n",
       "      <th>gender</th>\n",
       "      <th>BMI</th>\n",
       "      <th>sleeping_time</th>\n",
       "      <th>sporting_activity_(h/week)</th>\n",
       "      <th>daytime</th>\n",
       "      <th>outdoor_temperature</th>\n",
       "      <th>shopping_cart</th>\n",
       "      <th>attendants</th>\n",
       "      <th>shopping_frequency</th>\n",
       "      <th>...</th>\n",
       "      <th>weekday</th>\n",
       "      <th>smoking</th>\n",
       "      <th>ex_max</th>\n",
       "      <th>ex_min</th>\n",
       "      <th>hr_max</th>\n",
       "      <th>max_time</th>\n",
       "      <th>hr_min</th>\n",
       "      <th>min_time</th>\n",
       "      <th>shop_dur</th>\n",
       "      <th>reaching HRmax</th>\n",
       "    </tr>\n",
       "  </thead>\n",
       "  <tbody>\n",
       "    <tr>\n",
       "      <td>0</td>\n",
       "      <td>55</td>\n",
       "      <td>0.0</td>\n",
       "      <td>30.0</td>\n",
       "      <td>7.0</td>\n",
       "      <td>2.0</td>\n",
       "      <td>1</td>\n",
       "      <td>23</td>\n",
       "      <td>0.0</td>\n",
       "      <td>0.0</td>\n",
       "      <td>1.0</td>\n",
       "      <td>...</td>\n",
       "      <td>0</td>\n",
       "      <td>0</td>\n",
       "      <td>115</td>\n",
       "      <td>71</td>\n",
       "      <td>95</td>\n",
       "      <td>8</td>\n",
       "      <td>72</td>\n",
       "      <td>4</td>\n",
       "      <td>12</td>\n",
       "      <td>0</td>\n",
       "    </tr>\n",
       "    <tr>\n",
       "      <td>1</td>\n",
       "      <td>25</td>\n",
       "      <td>0.0</td>\n",
       "      <td>18.4</td>\n",
       "      <td>9.0</td>\n",
       "      <td>1.0</td>\n",
       "      <td>1</td>\n",
       "      <td>23</td>\n",
       "      <td>1.0</td>\n",
       "      <td>0.0</td>\n",
       "      <td>0.0</td>\n",
       "      <td>...</td>\n",
       "      <td>0</td>\n",
       "      <td>1</td>\n",
       "      <td>110</td>\n",
       "      <td>82</td>\n",
       "      <td>112</td>\n",
       "      <td>24</td>\n",
       "      <td>70</td>\n",
       "      <td>18</td>\n",
       "      <td>26</td>\n",
       "      <td>0</td>\n",
       "    </tr>\n",
       "    <tr>\n",
       "      <td>2</td>\n",
       "      <td>38</td>\n",
       "      <td>1.0</td>\n",
       "      <td>25.1</td>\n",
       "      <td>5.0</td>\n",
       "      <td>3.0</td>\n",
       "      <td>1</td>\n",
       "      <td>23</td>\n",
       "      <td>0.0</td>\n",
       "      <td>0.0</td>\n",
       "      <td>0.0</td>\n",
       "      <td>...</td>\n",
       "      <td>0</td>\n",
       "      <td>0</td>\n",
       "      <td>116</td>\n",
       "      <td>74</td>\n",
       "      <td>115</td>\n",
       "      <td>18</td>\n",
       "      <td>75</td>\n",
       "      <td>20</td>\n",
       "      <td>24</td>\n",
       "      <td>0</td>\n",
       "    </tr>\n",
       "    <tr>\n",
       "      <td>3</td>\n",
       "      <td>21</td>\n",
       "      <td>0.0</td>\n",
       "      <td>22.6</td>\n",
       "      <td>8.0</td>\n",
       "      <td>0.0</td>\n",
       "      <td>2</td>\n",
       "      <td>23</td>\n",
       "      <td>1.0</td>\n",
       "      <td>1.0</td>\n",
       "      <td>0.0</td>\n",
       "      <td>...</td>\n",
       "      <td>0</td>\n",
       "      <td>1</td>\n",
       "      <td>146</td>\n",
       "      <td>55</td>\n",
       "      <td>122</td>\n",
       "      <td>26</td>\n",
       "      <td>62</td>\n",
       "      <td>41</td>\n",
       "      <td>46</td>\n",
       "      <td>0</td>\n",
       "    </tr>\n",
       "    <tr>\n",
       "      <td>5</td>\n",
       "      <td>51</td>\n",
       "      <td>0.0</td>\n",
       "      <td>26.8</td>\n",
       "      <td>8.0</td>\n",
       "      <td>0.0</td>\n",
       "      <td>2</td>\n",
       "      <td>23</td>\n",
       "      <td>1.0</td>\n",
       "      <td>0.0</td>\n",
       "      <td>0.0</td>\n",
       "      <td>...</td>\n",
       "      <td>0</td>\n",
       "      <td>0</td>\n",
       "      <td>114</td>\n",
       "      <td>65</td>\n",
       "      <td>120</td>\n",
       "      <td>40</td>\n",
       "      <td>50</td>\n",
       "      <td>10</td>\n",
       "      <td>42</td>\n",
       "      <td>1</td>\n",
       "    </tr>\n",
       "  </tbody>\n",
       "</table>\n",
       "<p>5 rows × 21 columns</p>\n",
       "</div>"
      ],
      "text/plain": [
       "   age  gender   BMI  sleeping_time  sporting_activity_(h/week)  daytime  \\\n",
       "0   55     0.0  30.0            7.0                         2.0        1   \n",
       "1   25     0.0  18.4            9.0                         1.0        1   \n",
       "2   38     1.0  25.1            5.0                         3.0        1   \n",
       "3   21     0.0  22.6            8.0                         0.0        2   \n",
       "5   51     0.0  26.8            8.0                         0.0        2   \n",
       "\n",
       "   outdoor_temperature  shopping_cart  attendants  shopping_frequency  ...  \\\n",
       "0                   23            0.0         0.0                 1.0  ...   \n",
       "1                   23            1.0         0.0                 0.0  ...   \n",
       "2                   23            0.0         0.0                 0.0  ...   \n",
       "3                   23            1.0         1.0                 0.0  ...   \n",
       "5                   23            1.0         0.0                 0.0  ...   \n",
       "\n",
       "   weekday  smoking  ex_max  ex_min  hr_max  max_time  hr_min  min_time  \\\n",
       "0        0        0     115      71      95         8      72         4   \n",
       "1        0        1     110      82     112        24      70        18   \n",
       "2        0        0     116      74     115        18      75        20   \n",
       "3        0        1     146      55     122        26      62        41   \n",
       "5        0        0     114      65     120        40      50        10   \n",
       "\n",
       "   shop_dur  reaching HRmax  \n",
       "0        12               0  \n",
       "1        26               0  \n",
       "2        24               0  \n",
       "3        46               0  \n",
       "5        42               1  \n",
       "\n",
       "[5 rows x 21 columns]"
      ]
     },
     "execution_count": 16,
     "metadata": {},
     "output_type": "execute_result"
    }
   ],
   "source": [
    "# do Ordinal Encoder based on category order\n",
    "\n",
    "# for daytime\n",
    "df_normal.loc[df_normal.daytime == \"morning\", \"daytime\"] = 0\n",
    "df_normal.loc[df_normal.daytime == \"noon\", \"daytime\"] = 1\n",
    "df_normal.loc[df_normal.daytime == \"evening\", \"daytime\"] = 2\n",
    "\n",
    "# for cash_point\n",
    "df_normal.loc[df_normal.cash_point == \"free\", \"cash_point\"] = 0\n",
    "df_normal.loc[df_normal.cash_point == \"normal\", \"cash_point\"] = 1\n",
    "df_normal.loc[df_normal.cash_point == \"full\", \"cash_point\"] = 2\n",
    "\n",
    "\n",
    "# for weekday\n",
    "df_normal.loc[df_normal.weekday == \"monday\", \"weekday\"] = 0\n",
    "df_normal.loc[df_normal.weekday == \"tuesday\", \"weekday\"] = 1\n",
    "df_normal.loc[df_normal.weekday == \"wednesday\", \"weekday\"] = 2\n",
    "df_normal.loc[df_normal.weekday == \"thursday\", \"weekday\"] = 3\n",
    "df_normal.loc[df_normal.weekday == \"friday\", \"weekday\"] = 4\n",
    "df_normal.loc[df_normal.weekday == \"saturday\", \"weekday\"] = 5\n",
    "\n",
    "\n",
    "df_normal.head()"
   ]
  },
  {
   "cell_type": "markdown",
   "metadata": {},
   "source": [
    "### Scaling\n",
    "\n",
    "Only scale continuous values or ordinal values with large size. Keep the binaries untouched."
   ]
  },
  {
   "cell_type": "code",
   "execution_count": 17,
   "metadata": {},
   "outputs": [],
   "source": [
    "X_selected = df_selected.copy()\n",
    "X_normal = df_normal.copy()\n",
    "\n",
    "# for normal\n",
    "for f in ['BMI', 'sleeping_time', 'sporting_activity_(h/week)', 'daytime', 'outdoor_temperature', \\\n",
    "         'cash_point', 'ex_max', 'ex_min', 'max_time', 'min_time', 'hr_min', 'min_time', 'shop_dur', 'weekday']:\n",
    "        scaler = StandardScaler()\n",
    "        scaler.fit(X_normal[f].values.reshape(-1, 1))\n",
    "        X_normal[f] = scaler.transform(X_normal[f].values.reshape(-1, 1))\n",
    "\n",
    "# for selcted\n",
    "for f in ['shop_dur', 'hr_max', 'max_time', 'min_time']:\n",
    "        scaler = StandardScaler()\n",
    "        scaler.fit(X_selected[f].values.reshape(-1, 1))\n",
    "        X_selected[f] = scaler.transform(X_selected[f].values.reshape(-1, 1))"
   ]
  },
  {
   "cell_type": "markdown",
   "metadata": {},
   "source": [
    "### Train/Test split"
   ]
  },
  {
   "cell_type": "markdown",
   "metadata": {},
   "source": [
    "As the data size is quite small, we won't do train/test split, rather evaluate the model with k-fold cross-validation."
   ]
  },
  {
   "cell_type": "markdown",
   "metadata": {},
   "source": [
    "## NEURAL NETWORKS TRAIN\n",
    "\n",
    "### define model structure"
   ]
  },
  {
   "cell_type": "code",
   "execution_count": 18,
   "metadata": {},
   "outputs": [],
   "source": [
    "def init_model(optimizer='adam', activation='relu', kernel_init='uniform'):\n",
    "    \n",
    "    # create model\n",
    "    model = Sequential()\n",
    "    # add input later\n",
    "    model.add(Dense(input_dim, input_dim=input_dim, activation=activation, kernel_initializer=kernel_init))\n",
    "    # add droput regularizer\n",
    "    model.add(Dropout(.2))\n",
    "    # add hidden layer\n",
    "    model.add(Dense(input_dim, activation=activation, kernel_initializer=kernel_init))\n",
    "    # add output layer\n",
    "    model.add(Dense(4, activation='softmax'))\n",
    "    # compile the keras model\n",
    "    model.compile(loss='categorical_crossentropy', optimizer=optimizer, metrics=['accuracy'])\n",
    "    return model"
   ]
  },
  {
   "cell_type": "code",
   "execution_count": 19,
   "metadata": {},
   "outputs": [],
   "source": [
    "def ecode_cetegorical(y):\n",
    "    '''\n",
    "    fist encode class values and then conver to categorical\n",
    "    \n",
    "    input:\n",
    "        y: traget value\n",
    "    '''\n",
    "    # encode class values as integers\n",
    "    encoder = LabelEncoder()\n",
    "    encoder.fit(y)\n",
    "    encoded_Y = encoder.transform(y)\n",
    "    # convert integers to dummy variables (i.e. one hot encoded)\n",
    "    return np_utils.to_categorical(encoded_Y)"
   ]
  },
  {
   "cell_type": "markdown",
   "metadata": {},
   "source": [
    "#### prepare traget data"
   ]
  },
  {
   "cell_type": "code",
   "execution_count": 20,
   "metadata": {},
   "outputs": [],
   "source": [
    "# for feature selected\n",
    "cat_y_selected = ecode_cetegorical(y_selected)\n",
    "\n",
    "# for normal\n",
    "cat_y_normal = ecode_cetegorical(y_normal)"
   ]
  },
  {
   "cell_type": "markdown",
   "metadata": {},
   "source": [
    "### Define girdsearch space"
   ]
  },
  {
   "cell_type": "code",
   "execution_count": 21,
   "metadata": {},
   "outputs": [],
   "source": [
    "### define girds search with k-fold 5\n",
    "optimizer = ['RMSprop', 'Adadelta', 'Adam', 'Adamax', 'Nadam']\n",
    "activation = ['relu', 'hard_sigmoid', 'tanh', 'linear']\n",
    "kernel_init = ['glorot_normal', 'normal', 'uniform']\n",
    "param_grid = dict(optimizer = optimizer, activation = activation, kernel_init=kernel_init)"
   ]
  },
  {
   "cell_type": "markdown",
   "metadata": {},
   "source": [
    "#### TRAIN MODEL ON FEATURE SELECTED DATA"
   ]
  },
  {
   "cell_type": "code",
   "execution_count": 18,
   "metadata": {},
   "outputs": [
    {
     "name": "stderr",
     "output_type": "stream",
     "text": [
      "C:\\ProgramData\\Anaconda3\\lib\\site-packages\\joblib\\externals\\loky\\process_executor.py:706: UserWarning: A worker stopped while some jobs were given to the executor. This can be caused by a too short worker timeout or by a memory leak.\n",
      "  \"timeout or by a memory leak.\", UserWarning\n",
      "C:\\ProgramData\\Anaconda3\\lib\\site-packages\\sklearn\\model_selection\\_search.py:814: DeprecationWarning: The default of the `iid` parameter will change from True to False in version 0.22 and will be removed in 0.24. This will change numeric results when test-set sizes are unequal.\n",
      "  DeprecationWarning)\n"
     ]
    },
    {
     "name": "stdout",
     "output_type": "stream",
     "text": [
      "The best mean acc: 0.5455% achieved with {'activation': 'tanh', 'kernel_init': 'glorot_normal', 'optimizer': 'Adamax'}\n",
      "\n",
      "Mean acc: 0.5455%, std: (0.1236%), params: {'activation': 'tanh', 'kernel_init': 'glorot_normal', 'optimizer': 'Adamax'}\n",
      "Mean acc: 0.5245%, std: (0.0845%), params: {'activation': 'relu', 'kernel_init': 'uniform', 'optimizer': 'Adamax'}\n",
      "Mean acc: 0.5245%, std: (0.0981%), params: {'activation': 'linear', 'kernel_init': 'glorot_normal', 'optimizer': 'Adam'}\n",
      "Mean acc: 0.5175%, std: (0.1061%), params: {'activation': 'tanh', 'kernel_init': 'uniform', 'optimizer': 'Adam'}\n",
      "Mean acc: 0.5175%, std: (0.0838%), params: {'activation': 'relu', 'kernel_init': 'normal', 'optimizer': 'Adamax'}\n",
      "Mean acc: 0.5175%, std: (0.1084%), params: {'activation': 'tanh', 'kernel_init': 'glorot_normal', 'optimizer': 'Nadam'}\n",
      "Mean acc: 0.5175%, std: (0.1084%), params: {'activation': 'linear', 'kernel_init': 'uniform', 'optimizer': 'Adam'}\n",
      "Mean acc: 0.5175%, std: (0.1035%), params: {'activation': 'linear', 'kernel_init': 'normal', 'optimizer': 'Adadelta'}\n",
      "Mean acc: 0.5175%, std: (0.0726%), params: {'activation': 'relu', 'kernel_init': 'glorot_normal', 'optimizer': 'Adadelta'}\n",
      "Mean acc: 0.5105%, std: (0.1010%), params: {'activation': 'linear', 'kernel_init': 'uniform', 'optimizer': 'Adadelta'}\n"
     ]
    }
   ],
   "source": [
    "# create model\n",
    "input_dim=X_selected.shape[1]\n",
    "model = KerasClassifier(build_fn=init_model, epochs=100, batch_size=10, verbose=0)\n",
    "\n",
    "# init gird search with k-fold 5\n",
    "grid = GridSearchCV(estimator=model, param_grid=param_grid, n_jobs=-1, cv=5)\n",
    "# fit model\n",
    "grid_result = grid.fit(X_selected, cat_y_selected)\n",
    "\n",
    "# summarize results\n",
    "print(\"The best mean acc: {:.4f}% achieved with {}\\n\".format(grid_result.best_score_, grid_result.best_params_))\n",
    "means = grid_result.cv_results_['mean_test_score'] # get mean score\n",
    "stds = grid_result.cv_results_['std_test_score'] # get std score\n",
    "params = grid_result.cv_results_['params'] # get params\n",
    "\n",
    "# show 10 best results\n",
    "for mean, stdev, param in sorted(list(zip(means, stds, params)), key=lambda t: t[0], reverse=True)[:10]:\n",
    "    print(\"Mean acc: {:.4f}%, std: ({:.4f}%), params: {}\".format(mean, stdev, param))"
   ]
  },
  {
   "cell_type": "markdown",
   "metadata": {},
   "source": [
    "#### TRAIN MODEL ON NORMAL DATA"
   ]
  },
  {
   "cell_type": "code",
   "execution_count": 19,
   "metadata": {},
   "outputs": [
    {
     "name": "stderr",
     "output_type": "stream",
     "text": [
      "C:\\ProgramData\\Anaconda3\\lib\\site-packages\\joblib\\externals\\loky\\process_executor.py:706: UserWarning: A worker stopped while some jobs were given to the executor. This can be caused by a too short worker timeout or by a memory leak.\n",
      "  \"timeout or by a memory leak.\", UserWarning\n",
      "C:\\ProgramData\\Anaconda3\\lib\\site-packages\\sklearn\\model_selection\\_search.py:814: DeprecationWarning: The default of the `iid` parameter will change from True to False in version 0.22 and will be removed in 0.24. This will change numeric results when test-set sizes are unequal.\n",
      "  DeprecationWarning)\n"
     ]
    },
    {
     "name": "stdout",
     "output_type": "stream",
     "text": [
      "The best mean acc: 0.5489% achieved with {'activation': 'tanh', 'kernel_init': 'glorot_normal', 'optimizer': 'RMSprop'}\n",
      "\n",
      "Mean acc: 0.5489%, std: (0.1135%), params: {'activation': 'tanh', 'kernel_init': 'glorot_normal', 'optimizer': 'RMSprop'}\n",
      "Mean acc: 0.5338%, std: (0.1695%), params: {'activation': 'linear', 'kernel_init': 'glorot_normal', 'optimizer': 'Adamax'}\n",
      "Mean acc: 0.5263%, std: (0.1036%), params: {'activation': 'linear', 'kernel_init': 'normal', 'optimizer': 'Adam'}\n",
      "Mean acc: 0.5263%, std: (0.1265%), params: {'activation': 'tanh', 'kernel_init': 'normal', 'optimizer': 'Adamax'}\n",
      "Mean acc: 0.5188%, std: (0.0877%), params: {'activation': 'linear', 'kernel_init': 'normal', 'optimizer': 'Adadelta'}\n",
      "Mean acc: 0.5188%, std: (0.1083%), params: {'activation': 'relu', 'kernel_init': 'normal', 'optimizer': 'RMSprop'}\n",
      "Mean acc: 0.5188%, std: (0.0704%), params: {'activation': 'linear', 'kernel_init': 'normal', 'optimizer': 'RMSprop'}\n",
      "Mean acc: 0.5188%, std: (0.1224%), params: {'activation': 'relu', 'kernel_init': 'uniform', 'optimizer': 'Adam'}\n",
      "Mean acc: 0.5188%, std: (0.1142%), params: {'activation': 'hard_sigmoid', 'kernel_init': 'uniform', 'optimizer': 'Adam'}\n",
      "Mean acc: 0.5188%, std: (0.1278%), params: {'activation': 'hard_sigmoid', 'kernel_init': 'normal', 'optimizer': 'Adadelta'}\n"
     ]
    }
   ],
   "source": [
    "# # create model\n",
    "input_dim=X_normal.shape[1]\n",
    "model = KerasClassifier(build_fn=init_model, epochs=100, batch_size=10, verbose=0)\n",
    "\n",
    "# init gird search with k-fold 5\n",
    "grid = GridSearchCV(estimator=model, param_grid=param_grid, n_jobs=-1, cv=5)\n",
    "# fit model\n",
    "grid_result = grid.fit(X_normal, cat_y_normal)\n",
    "\n",
    "# summarize results\n",
    "print(\"The best mean acc: {:.4f}% achieved with {}\\n\".format(grid_result.best_score_, grid_result.best_params_))\n",
    "means = grid_result.cv_results_['mean_test_score'] # get mean score\n",
    "stds = grid_result.cv_results_['std_test_score'] # get std score\n",
    "params = grid_result.cv_results_['params'] # get params\n",
    "\n",
    "# show 10 best result\n",
    "for mean, stdev, param in sorted(list(zip(means, stds, params)), key=lambda t: t[0], reverse=True)[:10]:\n",
    "    print(\"Mean acc: {:.4f}%, std: ({:.4f}%), params: {}\".format(mean, stdev, param))"
   ]
  },
  {
   "cell_type": "markdown",
   "metadata": {},
   "source": [
    "# OTER CLASSIFIERS\n",
    "\n",
    "## RidgeClassifier"
   ]
  },
  {
   "cell_type": "code",
   "execution_count": 20,
   "metadata": {},
   "outputs": [],
   "source": [
    "from sklearn.model_selection import RepeatedStratifiedKFold\n",
    "from sklearn.linear_model import RidgeClassifier"
   ]
  },
  {
   "cell_type": "markdown",
   "metadata": {},
   "source": [
    "#### Search space"
   ]
  },
  {
   "cell_type": "code",
   "execution_count": 21,
   "metadata": {},
   "outputs": [],
   "source": [
    "# define grid search\n",
    "reg_alpha = [0.001, 0.001, 0.05, 0.1, 0.2, 0.3, 0.4, 0.5, 0.6, 0.7, 0.8, 0.9, 1.0]\n",
    "grid = dict(alpha=reg_alpha)"
   ]
  },
  {
   "cell_type": "markdown",
   "metadata": {},
   "source": [
    "#### TRAIN MODEL ON FEATURE SELECTED DATA"
   ]
  },
  {
   "cell_type": "code",
   "execution_count": 22,
   "metadata": {},
   "outputs": [
    {
     "name": "stdout",
     "output_type": "stream",
     "text": [
      "The best mean acc: 0.5105% achieved with {'alpha': 0.5}\n",
      "\n",
      "Mean acc: 0.5105%, std: (0.1035%), params: {'alpha': 0.5}\n",
      "Mean acc: 0.5105%, std: (0.1035%), params: {'alpha': 0.6}\n",
      "Mean acc: 0.5105%, std: (0.1035%), params: {'alpha': 0.7}\n",
      "Mean acc: 0.5105%, std: (0.1035%), params: {'alpha': 0.8}\n",
      "Mean acc: 0.5105%, std: (0.1035%), params: {'alpha': 0.9}\n",
      "Mean acc: 0.5105%, std: (0.1035%), params: {'alpha': 1.0}\n",
      "Mean acc: 0.5082%, std: (0.1052%), params: {'alpha': 0.001}\n",
      "Mean acc: 0.5082%, std: (0.1052%), params: {'alpha': 0.001}\n",
      "Mean acc: 0.5082%, std: (0.1052%), params: {'alpha': 0.05}\n",
      "Mean acc: 0.5082%, std: (0.1052%), params: {'alpha': 0.1}\n",
      "Mean acc: 0.5082%, std: (0.1052%), params: {'alpha': 0.2}\n",
      "Mean acc: 0.5082%, std: (0.1052%), params: {'alpha': 0.3}\n",
      "Mean acc: 0.5082%, std: (0.1052%), params: {'alpha': 0.4}\n"
     ]
    },
    {
     "name": "stderr",
     "output_type": "stream",
     "text": [
      "C:\\ProgramData\\Anaconda3\\lib\\site-packages\\sklearn\\model_selection\\_search.py:814: DeprecationWarning: The default of the `iid` parameter will change from True to False in version 0.22 and will be removed in 0.24. This will change numeric results when test-set sizes are unequal.\n",
      "  DeprecationWarning)\n"
     ]
    }
   ],
   "source": [
    "# define models with k-fold 10\n",
    "model = RidgeClassifier()\n",
    "cv = RepeatedStratifiedKFold(n_splits=10, n_repeats=3, random_state=1)\n",
    "grid_search = GridSearchCV(estimator=model, param_grid=grid, n_jobs=-1, cv=cv, scoring='accuracy', error_score=0)\n",
    "# fit model\n",
    "grid_result = grid_search.fit(X_selected, y_selected)\n",
    "\n",
    "# summarize results\n",
    "print(\"The best mean acc: {:.4f}% achieved with {}\\n\".format(grid_result.best_score_, grid_result.best_params_))\n",
    "means = grid_result.cv_results_['mean_test_score'] # get mean score\n",
    "stds = grid_result.cv_results_['std_test_score'] # get std score\n",
    "params = grid_result.cv_results_['params'] # get params\n",
    "\n",
    "# show the best results\n",
    "for mean, stdev, param in sorted(list(zip(means, stds, params)), key=lambda t: t[0], reverse=True):\n",
    "    print(\"Mean acc: {:.4f}%, std: ({:.4f}%), params: {}\".format(mean, stdev, param))"
   ]
  },
  {
   "cell_type": "markdown",
   "metadata": {},
   "source": [
    "#### TRAIN MODEL ON NORMAL DATA"
   ]
  },
  {
   "cell_type": "code",
   "execution_count": 23,
   "metadata": {},
   "outputs": [
    {
     "name": "stdout",
     "output_type": "stream",
     "text": [
      "The best mean acc: 0.5464% achieved with {'alpha': 0.05}\n",
      "\n",
      "Mean acc: 0.5464%, std: (0.1073%), params: {'alpha': 0.05}\n",
      "Mean acc: 0.5464%, std: (0.1073%), params: {'alpha': 0.1}\n",
      "Mean acc: 0.5464%, std: (0.1073%), params: {'alpha': 0.2}\n",
      "Mean acc: 0.5464%, std: (0.1057%), params: {'alpha': 0.5}\n",
      "Mean acc: 0.5439%, std: (0.1058%), params: {'alpha': 0.001}\n",
      "Mean acc: 0.5439%, std: (0.1058%), params: {'alpha': 0.001}\n",
      "Mean acc: 0.5439%, std: (0.1058%), params: {'alpha': 0.3}\n",
      "Mean acc: 0.5439%, std: (0.1058%), params: {'alpha': 0.4}\n",
      "Mean acc: 0.5439%, std: (0.1058%), params: {'alpha': 0.6}\n",
      "Mean acc: 0.5414%, std: (0.1053%), params: {'alpha': 0.7}\n",
      "Mean acc: 0.5414%, std: (0.1053%), params: {'alpha': 0.8}\n",
      "Mean acc: 0.5414%, std: (0.1053%), params: {'alpha': 0.9}\n",
      "Mean acc: 0.5414%, std: (0.1053%), params: {'alpha': 1.0}\n"
     ]
    },
    {
     "name": "stderr",
     "output_type": "stream",
     "text": [
      "C:\\ProgramData\\Anaconda3\\lib\\site-packages\\sklearn\\model_selection\\_search.py:814: DeprecationWarning: The default of the `iid` parameter will change from True to False in version 0.22 and will be removed in 0.24. This will change numeric results when test-set sizes are unequal.\n",
      "  DeprecationWarning)\n"
     ]
    }
   ],
   "source": [
    "# define models with k-fold 10\n",
    "model = RidgeClassifier()\n",
    "cv = RepeatedStratifiedKFold(n_splits=10, n_repeats=3, random_state=1)\n",
    "grid_search = GridSearchCV(estimator=model, param_grid=grid, n_jobs=-1, cv=cv, scoring='accuracy', error_score=0)\n",
    "# fit model\n",
    "grid_result = grid_search.fit(X_normal, y_normal)\n",
    "\n",
    "# summarize results\n",
    "print(\"The best mean acc: {:.4f}% achieved with {}\\n\".format(grid_result.best_score_, grid_result.best_params_))\n",
    "means = grid_result.cv_results_['mean_test_score'] # get mean score\n",
    "stds = grid_result.cv_results_['std_test_score'] # get std score\n",
    "params = grid_result.cv_results_['params'] # get params\n",
    "\n",
    "# show the best results\n",
    "for mean, stdev, param in sorted(list(zip(means, stds, params)), key=lambda t: t[0], reverse=True):\n",
    "    print(\"Mean acc: {:.4f}%, std: ({:.4f}%), params: {}\".format(mean, stdev, param))"
   ]
  },
  {
   "cell_type": "markdown",
   "metadata": {},
   "source": [
    "## K-Nearest Neighbors (KNN)"
   ]
  },
  {
   "cell_type": "code",
   "execution_count": 24,
   "metadata": {},
   "outputs": [],
   "source": [
    "from sklearn.neighbors import KNeighborsClassifier"
   ]
  },
  {
   "cell_type": "markdown",
   "metadata": {},
   "source": [
    "#### Search Space"
   ]
  },
  {
   "cell_type": "code",
   "execution_count": 25,
   "metadata": {},
   "outputs": [],
   "source": [
    "n_neighbors = range(1, 24, 2)\n",
    "weights = ['uniform', 'distance']\n",
    "metric = ['euclidean', 'manhattan', 'minkowski']\n",
    "grid = dict(n_neighbors = n_neighbors, weights = weights, metric = metric)"
   ]
  },
  {
   "cell_type": "markdown",
   "metadata": {},
   "source": [
    "#### TRAIN MODEL ON FEATURE SELECTED DATA"
   ]
  },
  {
   "cell_type": "code",
   "execution_count": 26,
   "metadata": {},
   "outputs": [
    {
     "name": "stdout",
     "output_type": "stream",
     "text": [
      "The best mean acc: 0.5128% achieved with {'metric': 'manhattan', 'n_neighbors': 13, 'weights': 'distance'}\n",
      "\n",
      "Mean acc: 0.5128%, std: (0.1276%), params: {'metric': 'manhattan', 'n_neighbors': 13, 'weights': 'distance'}\n",
      "Mean acc: 0.5105%, std: (0.1146%), params: {'metric': 'manhattan', 'n_neighbors': 15, 'weights': 'distance'}\n",
      "Mean acc: 0.5035%, std: (0.1156%), params: {'metric': 'manhattan', 'n_neighbors': 13, 'weights': 'uniform'}\n",
      "Mean acc: 0.5035%, std: (0.1104%), params: {'metric': 'manhattan', 'n_neighbors': 19, 'weights': 'distance'}\n",
      "Mean acc: 0.5035%, std: (0.1117%), params: {'metric': 'manhattan', 'n_neighbors': 23, 'weights': 'distance'}\n",
      "Mean acc: 0.5012%, std: (0.1023%), params: {'metric': 'manhattan', 'n_neighbors': 23, 'weights': 'uniform'}\n",
      "Mean acc: 0.4988%, std: (0.1128%), params: {'metric': 'euclidean', 'n_neighbors': 19, 'weights': 'distance'}\n",
      "Mean acc: 0.4988%, std: (0.0989%), params: {'metric': 'euclidean', 'n_neighbors': 23, 'weights': 'uniform'}\n",
      "Mean acc: 0.4988%, std: (0.1010%), params: {'metric': 'euclidean', 'n_neighbors': 23, 'weights': 'distance'}\n",
      "Mean acc: 0.4988%, std: (0.1070%), params: {'metric': 'manhattan', 'n_neighbors': 15, 'weights': 'uniform'}\n"
     ]
    },
    {
     "name": "stderr",
     "output_type": "stream",
     "text": [
      "C:\\ProgramData\\Anaconda3\\lib\\site-packages\\sklearn\\model_selection\\_search.py:814: DeprecationWarning: The default of the `iid` parameter will change from True to False in version 0.22 and will be removed in 0.24. This will change numeric results when test-set sizes are unequal.\n",
      "  DeprecationWarning)\n"
     ]
    }
   ],
   "source": [
    "model = KNeighborsClassifier()\n",
    "cv = RepeatedStratifiedKFold(n_splits=10, n_repeats=3, random_state=1)\n",
    "grid_search = GridSearchCV(estimator=model, param_grid=grid, n_jobs=-1, cv=cv, scoring='accuracy',error_score=0)\n",
    "# fit model\n",
    "grid_result = grid_search.fit(X_selected, y_selected)\n",
    "\n",
    "\n",
    "# summarize results\n",
    "print(\"The best mean acc: {:.4f}% achieved with {}\\n\".format(grid_result.best_score_, grid_result.best_params_))\n",
    "means = grid_result.cv_results_['mean_test_score'] # get mean score\n",
    "stds = grid_result.cv_results_['std_test_score'] # get std score\n",
    "params = grid_result.cv_results_['params'] # get params\n",
    "\n",
    "# show the best results\n",
    "for mean, stdev, param in sorted(list(zip(means, stds, params)), key=lambda t: t[0], reverse=True)[:10]:\n",
    "    print(\"Mean acc: {:.4f}%, std: ({:.4f}%), params: {}\".format(mean, stdev, param))"
   ]
  },
  {
   "cell_type": "markdown",
   "metadata": {},
   "source": [
    "#### TRAIN MODEL ON NORMAL DATA"
   ]
  },
  {
   "cell_type": "code",
   "execution_count": 27,
   "metadata": {},
   "outputs": [
    {
     "name": "stdout",
     "output_type": "stream",
     "text": [
      "The best mean acc: 0.4687% achieved with {'metric': 'manhattan', 'n_neighbors': 23, 'weights': 'distance'}\n",
      "\n",
      "Mean acc: 0.4687%, std: (0.1149%), params: {'metric': 'manhattan', 'n_neighbors': 23, 'weights': 'distance'}\n",
      "Mean acc: 0.4637%, std: (0.1306%), params: {'metric': 'manhattan', 'n_neighbors': 7, 'weights': 'uniform'}\n",
      "Mean acc: 0.4637%, std: (0.1116%), params: {'metric': 'manhattan', 'n_neighbors': 13, 'weights': 'distance'}\n",
      "Mean acc: 0.4612%, std: (0.0984%), params: {'metric': 'manhattan', 'n_neighbors': 9, 'weights': 'distance'}\n",
      "Mean acc: 0.4612%, std: (0.1108%), params: {'metric': 'manhattan', 'n_neighbors': 21, 'weights': 'distance'}\n",
      "Mean acc: 0.4561%, std: (0.1098%), params: {'metric': 'manhattan', 'n_neighbors': 7, 'weights': 'distance'}\n",
      "Mean acc: 0.4561%, std: (0.0957%), params: {'metric': 'manhattan', 'n_neighbors': 15, 'weights': 'distance'}\n",
      "Mean acc: 0.4536%, std: (0.0940%), params: {'metric': 'manhattan', 'n_neighbors': 13, 'weights': 'uniform'}\n",
      "Mean acc: 0.4486%, std: (0.1140%), params: {'metric': 'manhattan', 'n_neighbors': 11, 'weights': 'distance'}\n",
      "Mean acc: 0.4461%, std: (0.0983%), params: {'metric': 'manhattan', 'n_neighbors': 9, 'weights': 'uniform'}\n"
     ]
    },
    {
     "name": "stderr",
     "output_type": "stream",
     "text": [
      "C:\\ProgramData\\Anaconda3\\lib\\site-packages\\sklearn\\model_selection\\_search.py:814: DeprecationWarning: The default of the `iid` parameter will change from True to False in version 0.22 and will be removed in 0.24. This will change numeric results when test-set sizes are unequal.\n",
      "  DeprecationWarning)\n"
     ]
    }
   ],
   "source": [
    "# define models with k-fold 10\n",
    "model = KNeighborsClassifier()\n",
    "cv = RepeatedStratifiedKFold(n_splits=10, n_repeats=3, random_state=1)\n",
    "grid_search = GridSearchCV(estimator=model, param_grid=grid, n_jobs=-1, cv=cv, scoring='accuracy',error_score=0)\n",
    "# fit model\n",
    "grid_result = grid_search.fit(X_normal, y_normal)\n",
    "\n",
    "\n",
    "# summarize results\n",
    "print(\"The best mean acc: {:.4f}% achieved with {}\\n\".format(grid_result.best_score_, grid_result.best_params_))\n",
    "means = grid_result.cv_results_['mean_test_score'] # get mean score\n",
    "stds = grid_result.cv_results_['std_test_score'] # get std score\n",
    "params = grid_result.cv_results_['params'] # get params\n",
    "\n",
    "# show the best results\n",
    "for mean, stdev, param in sorted(list(zip(means, stds, params)), key=lambda t: t[0], reverse=True)[:10]:\n",
    "    print(\"Mean acc: {:.4f}%, std: ({:.4f}%), params: {}\".format(mean, stdev, param))"
   ]
  },
  {
   "cell_type": "markdown",
   "metadata": {},
   "source": [
    "# Support Vector Machine (SVM)"
   ]
  },
  {
   "cell_type": "code",
   "execution_count": 28,
   "metadata": {},
   "outputs": [],
   "source": [
    "from sklearn.svm import SVC"
   ]
  },
  {
   "cell_type": "markdown",
   "metadata": {},
   "source": [
    "#### Define search space"
   ]
  },
  {
   "cell_type": "code",
   "execution_count": 29,
   "metadata": {},
   "outputs": [],
   "source": [
    "# define grid search\n",
    "kernel = ['poly', 'rbf', 'sigmoid'] # kernel\n",
    "reg_pram = [1.0, 0.1, 0.05, 0.01] # regression penalty\n",
    "grid = dict(kernel = kernel, C = reg_pram)"
   ]
  },
  {
   "cell_type": "markdown",
   "metadata": {},
   "source": [
    "#### TRAIN MODEL ON FEATURE SELECTED DATA"
   ]
  },
  {
   "cell_type": "code",
   "execution_count": 30,
   "metadata": {},
   "outputs": [
    {
     "name": "stdout",
     "output_type": "stream",
     "text": [
      "The best mean acc: 0.5105% achieved with {'C': 0.1, 'kernel': 'sigmoid'}\n",
      "\n",
      "Mean acc: 0.5105%, std: (0.1001%), params: {'C': 0.1, 'kernel': 'sigmoid'}\n",
      "Mean acc: 0.5058%, std: (0.1026%), params: {'C': 1.0, 'kernel': 'sigmoid'}\n",
      "Mean acc: 0.4895%, std: (0.0924%), params: {'C': 1.0, 'kernel': 'rbf'}\n",
      "Mean acc: 0.4872%, std: (0.0913%), params: {'C': 0.1, 'kernel': 'rbf'}\n",
      "Mean acc: 0.4848%, std: (0.0925%), params: {'C': 0.05, 'kernel': 'sigmoid'}\n",
      "Mean acc: 0.4545%, std: (0.1077%), params: {'C': 1.0, 'kernel': 'poly'}\n",
      "Mean acc: 0.4452%, std: (0.0527%), params: {'C': 0.1, 'kernel': 'poly'}\n",
      "Mean acc: 0.4336%, std: (0.0481%), params: {'C': 0.05, 'kernel': 'poly'}\n",
      "Mean acc: 0.3916%, std: (0.0197%), params: {'C': 0.05, 'kernel': 'rbf'}\n",
      "Mean acc: 0.3916%, std: (0.0197%), params: {'C': 0.01, 'kernel': 'poly'}\n"
     ]
    },
    {
     "name": "stderr",
     "output_type": "stream",
     "text": [
      "C:\\ProgramData\\Anaconda3\\lib\\site-packages\\sklearn\\model_selection\\_search.py:814: DeprecationWarning: The default of the `iid` parameter will change from True to False in version 0.22 and will be removed in 0.24. This will change numeric results when test-set sizes are unequal.\n",
      "  DeprecationWarning)\n",
      "C:\\ProgramData\\Anaconda3\\lib\\site-packages\\sklearn\\svm\\base.py:193: FutureWarning: The default value of gamma will change from 'auto' to 'scale' in version 0.22 to account better for unscaled features. Set gamma explicitly to 'auto' or 'scale' to avoid this warning.\n",
      "  \"avoid this warning.\", FutureWarning)\n"
     ]
    }
   ],
   "source": [
    "# define models with k-fold 10\n",
    "model = SVC()\n",
    "cv = RepeatedStratifiedKFold(n_splits=10, n_repeats=3, random_state=1)\n",
    "grid_search = GridSearchCV(estimator=model, param_grid=grid, n_jobs=-1, cv=cv, scoring='accuracy', error_score=0)\n",
    "# fit model\n",
    "grid_result = grid_search.fit(X_selected, y_selected)\n",
    "\n",
    "# summarize results\n",
    "print(\"The best mean acc: {:.4f}% achieved with {}\\n\".format(grid_result.best_score_, grid_result.best_params_))\n",
    "means = grid_result.cv_results_['mean_test_score'] # get mean score\n",
    "stds = grid_result.cv_results_['std_test_score'] # get std score\n",
    "params = grid_result.cv_results_['params'] # get params\n",
    "\n",
    "# show the best results\n",
    "for mean, stdev, param in sorted(list(zip(means, stds, params)), key=lambda t: t[0], reverse=True)[:10]:\n",
    "    print(\"Mean acc: {:.4f}%, std: ({:.4f}%), params: {}\".format(mean, stdev, param))"
   ]
  },
  {
   "cell_type": "markdown",
   "metadata": {},
   "source": [
    "#### TRAIN MODEL ON NORMAL DATA"
   ]
  },
  {
   "cell_type": "code",
   "execution_count": 31,
   "metadata": {},
   "outputs": [
    {
     "name": "stdout",
     "output_type": "stream",
     "text": [
      "The best mean acc: 0.3985% achieved with {'C': 1.0, 'kernel': 'sigmoid'}\n",
      "\n",
      "Mean acc: 0.3985%, std: (0.0226%), params: {'C': 1.0, 'kernel': 'sigmoid'}\n",
      "Mean acc: 0.3985%, std: (0.0226%), params: {'C': 0.1, 'kernel': 'rbf'}\n",
      "Mean acc: 0.3985%, std: (0.0226%), params: {'C': 0.1, 'kernel': 'sigmoid'}\n",
      "Mean acc: 0.3985%, std: (0.0226%), params: {'C': 0.05, 'kernel': 'rbf'}\n",
      "Mean acc: 0.3985%, std: (0.0226%), params: {'C': 0.05, 'kernel': 'sigmoid'}\n",
      "Mean acc: 0.3985%, std: (0.0226%), params: {'C': 0.01, 'kernel': 'rbf'}\n",
      "Mean acc: 0.3985%, std: (0.0226%), params: {'C': 0.01, 'kernel': 'sigmoid'}\n",
      "Mean acc: 0.3835%, std: (0.1044%), params: {'C': 1.0, 'kernel': 'rbf'}\n",
      "Mean acc: 0.3709%, std: (0.1364%), params: {'C': 1.0, 'kernel': 'poly'}\n",
      "Mean acc: 0.3709%, std: (0.1364%), params: {'C': 0.1, 'kernel': 'poly'}\n"
     ]
    },
    {
     "name": "stderr",
     "output_type": "stream",
     "text": [
      "C:\\ProgramData\\Anaconda3\\lib\\site-packages\\sklearn\\model_selection\\_search.py:814: DeprecationWarning: The default of the `iid` parameter will change from True to False in version 0.22 and will be removed in 0.24. This will change numeric results when test-set sizes are unequal.\n",
      "  DeprecationWarning)\n",
      "C:\\ProgramData\\Anaconda3\\lib\\site-packages\\sklearn\\svm\\base.py:193: FutureWarning: The default value of gamma will change from 'auto' to 'scale' in version 0.22 to account better for unscaled features. Set gamma explicitly to 'auto' or 'scale' to avoid this warning.\n",
      "  \"avoid this warning.\", FutureWarning)\n"
     ]
    }
   ],
   "source": [
    "# define models with k-fold 10\n",
    "model = SVC()\n",
    "cv = RepeatedStratifiedKFold(n_splits=10, n_repeats=3, random_state=1)\n",
    "grid_search = GridSearchCV(estimator=model, param_grid=grid, n_jobs=-1, cv=cv, scoring='accuracy', error_score=0)\n",
    "# fit model\n",
    "grid_result = grid_search.fit(X_normal, y_normal)\n",
    "\n",
    "# summarize results\n",
    "print(\"The best mean acc: {:.4f}% achieved with {}\\n\".format(grid_result.best_score_, grid_result.best_params_))\n",
    "means = grid_result.cv_results_['mean_test_score'] # get mean score\n",
    "stds = grid_result.cv_results_['std_test_score'] # get std score\n",
    "params = grid_result.cv_results_['params'] # get params\n",
    "\n",
    "# show the best results\n",
    "for mean, stdev, param in sorted(list(zip(means, stds, params)), key=lambda t: t[0], reverse=True)[:10]:\n",
    "    print(\"Mean acc: {:.4f}%, std: ({:.4f}%), params: {}\".format(mean, stdev, param))"
   ]
  }
 ],
 "metadata": {
  "kernelspec": {
   "display_name": "Python 3",
   "language": "python",
   "name": "python3"
  },
  "language_info": {
   "codemirror_mode": {
    "name": "ipython",
    "version": 3
   },
   "file_extension": ".py",
   "mimetype": "text/x-python",
   "name": "python",
   "nbconvert_exporter": "python",
   "pygments_lexer": "ipython3",
   "version": "3.7.4"
  }
 },
 "nbformat": 4,
 "nbformat_minor": 2
}
