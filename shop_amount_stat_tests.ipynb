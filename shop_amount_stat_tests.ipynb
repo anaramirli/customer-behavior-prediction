{
 "cells": [
  {
   "cell_type": "markdown",
   "metadata": {},
   "source": [
    "# STAT TESTS FOR SHOP_AMOUNT "
   ]
  },
  {
   "cell_type": "markdown",
   "metadata": {},
   "source": [
    "Another important target variable which can be used for contributing to overall shopping experience is the shopping amount. More shopping is made the more money stores make. Thus, here we’ll closely examine the relation of shopping amount with other variables, later build a model based on our analysis.  For this purpose, we’ll carry out statistical test on both continuous variables and categorical variables and analyze their response on the cases of shopping amount."
   ]
  },
  {
   "cell_type": "code",
   "execution_count": 2,
   "metadata": {},
   "outputs": [],
   "source": [
    "import pandas as pd\n",
    "import numpy as np\n",
    "from tabulate import tabulate\n",
    "from scipy import stats\n",
    "import matplotlib.pyplot as plt\n",
    "from collections import Counter\n",
    "\n",
    "# import statmodels\n",
    "import statsmodels.formula.api as smf\n",
    "from statsmodels.stats.multicomp import pairwise_tukeyhsd\n",
    "from statsmodels.graphics.factorplots import interaction_plot\n",
    "import statsmodels.api as sm\n",
    "import seaborn as sns\n",
    "import scikit_posthocs as sp\n",
    "\n",
    "# import our utility functions\n",
    "from modules.utils import create_2cat_table, create_1cat_table\n",
    "from modules.StatUtils import *\n",
    "\n",
    "# init statt utils class.\n",
    "statUtils = StatUtils()"
   ]
  },
  {
   "cell_type": "markdown",
   "metadata": {},
   "source": [
    "### Load data"
   ]
  },
  {
   "cell_type": "code",
   "execution_count": 3,
   "metadata": {},
   "outputs": [
    {
     "data": {
      "text/plain": [
       "Index(['Id', 'age', 'gender', 'BMI', 'sleeping_time',\n",
       "       'sporting_activity_(h/week)', 'daytime', 'outdoor_temperature',\n",
       "       'shopping_cart', 'attendants', 'shopping_frequency', 'cash_point',\n",
       "       'shopping_amount', 'weekday', 'smoking', 'ex_max', 'ex_min', 'hr_max',\n",
       "       'max_time', 'hr_min', 'min_time', 'shopping duration (in minutes)',\n",
       "       'reaching HRmax'],\n",
       "      dtype='object')"
      ]
     },
     "execution_count": 3,
     "metadata": {},
     "output_type": "execute_result"
    }
   ],
   "source": [
    "# load data\n",
    "data = pd.read_csv('dataset/Dataset_heart rate_retail stores.csv')\n",
    "\n",
    "data.columns"
   ]
  },
  {
   "cell_type": "code",
   "execution_count": 4,
   "metadata": {
    "scrolled": false
   },
   "outputs": [
    {
     "name": "stdout",
     "output_type": "stream",
     "text": [
      "<class 'pandas.core.frame.DataFrame'>\n",
      "RangeIndex: 165 entries, 0 to 164\n",
      "Data columns (total 23 columns):\n",
      "Id                                165 non-null int64\n",
      "age                               165 non-null int64\n",
      "gender                            165 non-null object\n",
      "BMI                               165 non-null float64\n",
      "sleeping_time                     165 non-null float64\n",
      "sporting_activity_(h/week)        165 non-null float64\n",
      "daytime                           165 non-null object\n",
      "outdoor_temperature               165 non-null int64\n",
      "shopping_cart                     165 non-null object\n",
      "attendants                        165 non-null object\n",
      "shopping_frequency                165 non-null object\n",
      "cash_point                        165 non-null object\n",
      "shopping_amount                   165 non-null object\n",
      "weekday                           165 non-null object\n",
      "smoking                           165 non-null int64\n",
      "ex_max                            165 non-null int64\n",
      "ex_min                            165 non-null int64\n",
      "hr_max                            165 non-null int64\n",
      "max_time                          165 non-null int64\n",
      "hr_min                            165 non-null int64\n",
      "min_time                          165 non-null int64\n",
      "shopping duration (in minutes)    165 non-null int64\n",
      "reaching HRmax                    165 non-null int64\n",
      "dtypes: float64(3), int64(12), object(8)\n",
      "memory usage: 29.8+ KB\n"
     ]
    }
   ],
   "source": [
    "data.info()"
   ]
  },
  {
   "cell_type": "markdown",
   "metadata": {},
   "source": [
    "# TESTS\n",
    "\n",
    "\n",
    "Shopping amount has four classes, named “less”, “normal”, “bag full” and “heavy” accordingly. In order to understand the effect of other variables on shopping amount, we’ll carry out some parametric and non-parametric tests for analyzing the differences amount the group means. When we do parametric test, such as Anova, it’s important that the number of observation for each group is around the same number.  However, we can see that shopping amount classes are little unbalanced, where “less”, “normal”, “bag full” and “heavy” have 61, 58, 18, 28 observations respectively. Thus, as “bag full” and “heavy” have similar meaning and less number of observations, we’ll pool them together into “much” for ensuring the result of parametric test. \n",
    "Moreover, for the parameter test we clear all the outliers using IQR approach and transform the distribution of original response values using Gaussian or Log transformation (depending of the original distributions) If they don’t follow the normal distribution."
   ]
  },
  {
   "cell_type": "markdown",
   "metadata": {},
   "source": [
    "# A. ON CONTINIOUS VARS\n",
    "\n",
    "Here we'll test the difference on shopping amounts on various continuous variables.\n",
    "\n",
    "### STAT TESTS FOR CONTINUOUS DATA\n",
    "\n",
    "We have different continuous variables such as hr_min, min_time, sleeping time, etc. For this variables we’ll conduct parametric tests Anova to see whether means of shopping group significantly varies from each other. If they do so, the we’ll use Tukey HSD to understand, exactly which parameters are different. For these parametric tests following assumptions we’ll be checked.\n",
    "\n",
    "*\tResiduals of each factor level is normally distributed\n",
    "*\tIndependence of factors.\n",
    "*\tHomogeneity of variance: Homogeneity means that the variance among the groups should be approximately equal.\n",
    "\n",
    "However, if the assumptions of the Anova test don’t hold, then we’ll use some other non-paramedic test such as Kruskal-Wallis. Later in order find where difference exists amount groups will use pairwise comparison test Conver’s post hoc to find where differences lies."
   ]
  },
  {
   "cell_type": "code",
   "execution_count": 5,
   "metadata": {},
   "outputs": [
    {
     "data": {
      "text/plain": [
       "Counter({'less': 61, 'normal': 58, 'bag full': 18, 'heavy': 28})"
      ]
     },
     "execution_count": 5,
     "metadata": {},
     "output_type": "execute_result"
    }
   ],
   "source": [
    "Counter(data['shopping_amount'])"
   ]
  },
  {
   "cell_type": "markdown",
   "metadata": {},
   "source": [
    "When we do annova it's important that the number of observation for each group is around same nummmer. We can see from the above counter that \"bag full\" and \"heavy\" categories have less number of observation comparing with that of \"less\" and \"normal\". Thus, as \"bag full\" and \"heady\" are the categories of the same context, we'll pool them under the name \"big\""
   ]
  },
  {
   "cell_type": "code",
   "execution_count": 6,
   "metadata": {},
   "outputs": [
    {
     "data": {
      "text/plain": [
       "Counter({'less': 61, 'normal': 58, 'bag full': 18, 'heavy': 28})"
      ]
     },
     "execution_count": 6,
     "metadata": {},
     "output_type": "execute_result"
    }
   ],
   "source": [
    "# before pooling\n",
    "Counter(data['shopping_amount'])"
   ]
  },
  {
   "cell_type": "code",
   "execution_count": 7,
   "metadata": {},
   "outputs": [],
   "source": [
    "data.loc[(data.shopping_amount == \"bag full\") | (data.shopping_amount == \"heavy\")\\\n",
    "         , \"shopping_amount\"] = \"much\""
   ]
  },
  {
   "cell_type": "code",
   "execution_count": 8,
   "metadata": {},
   "outputs": [
    {
     "data": {
      "text/plain": [
       "Counter({'less': 61, 'normal': 58, 'much': 46})"
      ]
     },
     "execution_count": 8,
     "metadata": {},
     "output_type": "execute_result"
    }
   ],
   "source": [
    "# after pooling \n",
    "Counter(data['shopping_amount'])"
   ]
  },
  {
   "cell_type": "markdown",
   "metadata": {},
   "source": [
    "#### some extra util functions"
   ]
  },
  {
   "cell_type": "code",
   "execution_count": 9,
   "metadata": {},
   "outputs": [],
   "source": [
    "def check_anova_assumptions(lm, categorical_var, df):\n",
    "    \n",
    "    '''\n",
    "    for checking anova assumptions all together (independence, homogenity, normality)\n",
    "    \n",
    "    inputs:\n",
    "        lm: fitted linear model\n",
    "        categorical_var: name of response varaible\n",
    "        df: panda dfframe\n",
    "    '''\n",
    "\n",
    "    # homogenity test\n",
    "    F, pvalue = stats.bartlett(\n",
    "                           df[df['shopping_amount']=='less'][categorical_var], \n",
    "                           df[df['shopping_amount']=='normal'][categorical_var],\n",
    "                           df[df['shopping_amount']=='heavy'][categorical_var])\n",
    "    \n",
    "    tmp_txt =  '\\nHomogenit Test\\nF: %.4f p: %.4f\\n' %(F, pvalue)\n",
    "    if pvalue>0.05: tmp_txt=tmp_txt+\"p-values is significant, thus homogenity holds\\n\"\n",
    "    else:  tmp_txt=tmp_txt+\"p-values is non-significant, thus homogenity don't hold\\n\"\n",
    "        \n",
    "    print(tmp_txt)\n",
    "    \n",
    "    # Shaprio-Wild//qq plot test to check the normal distribution of residuals    \n",
    "    F, pvalue  = stats.shapiro(lm.resid)\n",
    "    \n",
    "    tmp_txt =  '\\nShaprio-Wild Test\\nF: %.4f p: %.4f\\n' %(F, pvalue)\n",
    "    if pvalue>0.05: tmp_txt=tmp_txt+\"p-values is significant, thus residuals are normally distributed\"\n",
    "    else:  tmp_txt=tmp_txt+\"p-values is non-significant, thus normality of residuals don't hold\"\n",
    "\n",
    "    print(tmp_txt)\n",
    "    fig = sm.qqplot(lm.resid, line='s')\n",
    "    plt.show()\n",
    "    \n",
    "    # independence test\n",
    "    print(\"\\nIndependence test\")\n",
    "    statUtils.independence_test(lm)"
   ]
  },
  {
   "cell_type": "markdown",
   "metadata": {},
   "source": [
    "Now, we're good to go!"
   ]
  },
  {
   "cell_type": "markdown",
   "metadata": {},
   "source": [
    "# A.1. age ~ shopping_amount"
   ]
  },
  {
   "cell_type": "code",
   "execution_count": 10,
   "metadata": {},
   "outputs": [
    {
     "data": {
      "image/png": "[encoded data removed]",
      "text/plain": [
       "<Figure size 432x288 with 1 Axes>"
      ]
     },
     "metadata": {
      "needs_background": "light"
     },
     "output_type": "display_data"
    }
   ],
   "source": [
    "data_tmp = data.copy()\n",
    "\n",
    "# remove outliers and check distribution for age\n",
    "plt.boxplot(x=data_tmp['age'])\n",
    "plt.show()"
   ]
  },
  {
   "cell_type": "markdown",
   "metadata": {},
   "source": [
    "no outliers, leave it like this."
   ]
  },
  {
   "cell_type": "code",
   "execution_count": 11,
   "metadata": {},
   "outputs": [
    {
     "data": {
      "image/png": "[encoded data removed]",
      "text/plain": [
       "<Figure size 432x288 with 1 Axes>"
      ]
     },
     "metadata": {
      "needs_background": "light"
     },
     "output_type": "display_data"
    },
    {
     "data": {
      "text/plain": [
       "<matplotlib.axes._subplots.AxesSubplot at 0x280022be888>"
      ]
     },
     "execution_count": 11,
     "metadata": {},
     "output_type": "execute_result"
    },
    {
     "data": {
      "image/png": "[encoded data removed]",
      "text/plain": [
       "<Figure size 432x288 with 1 Axes>"
      ]
     },
     "metadata": {
      "needs_background": "light"
     },
     "output_type": "display_data"
    }
   ],
   "source": [
    "# BEFORE TRANSFORMATION\n",
    "plt.hist(data_tmp['age'])\n",
    "plt.show()\n",
    "\n",
    "sns.kdeplot(data_tmp['age'], cumulative=False, bw=2)"
   ]
  },
  {
   "cell_type": "markdown",
   "metadata": {},
   "source": [
    "As we can see our traget data don't follow the normal distribution, so we've to apply gaussian transfromation on our data for making it valible for anova test."
   ]
  },
  {
   "cell_type": "code",
   "execution_count": 12,
   "metadata": {},
   "outputs": [
    {
     "data": {
      "image/png": "[encoded data removed]",
      "text/plain": [
       "<Figure size 432x288 with 1 Axes>"
      ]
     },
     "metadata": {
      "needs_background": "light"
     },
     "output_type": "display_data"
    },
    {
     "data": {
      "text/plain": [
       "<matplotlib.axes._subplots.AxesSubplot at 0x280045f6b48>"
      ]
     },
     "execution_count": 12,
     "metadata": {},
     "output_type": "execute_result"
    },
    {
     "data": {
      "image/png": "[encoded data removed]",
      "text/plain": [
       "<Figure size 432x288 with 1 Axes>"
      ]
     },
     "metadata": {
      "needs_background": "light"
     },
     "output_type": "display_data"
    }
   ],
   "source": [
    "# gaussian transformation\n",
    "data_tmp['age_norm'], fitted_lambda = stats.boxcox(data_tmp['age'])\n",
    "\n",
    "\n",
    "# AFTER TRANSFORMATION\n",
    "plt.hist(data_tmp['age_norm'])\n",
    "plt.show()\n",
    "\n",
    "# plot after transformation\n",
    "sns.kdeplot(data_tmp['age_norm'], cumulative=False, bw=2)"
   ]
  },
  {
   "cell_type": "code",
   "execution_count": 13,
   "metadata": {},
   "outputs": [
    {
     "name": "stdout",
     "output_type": "stream",
     "text": [
      "+-------------------+-----+------------+------------+\n",
      "| shopping_amount   |   N |   age_norm |   age_norm |\n",
      "|                   |     |       mean |        std |\n",
      "+===================+=====+============+============+\n",
      "| less              |  61 |       5.67 |       0.82 |\n",
      "+-------------------+-----+------------+------------+\n",
      "| much              |  46 |       5.44 |       0.83 |\n",
      "+-------------------+-----+------------+------------+\n",
      "| normal            |  58 |       5.6  |       0.76 |\n",
      "+-------------------+-----+------------+------------+\n"
     ]
    }
   ],
   "source": [
    "create_1cat_table(data_tmp, 'shopping_amount', 'age_norm')"
   ]
  },
  {
   "cell_type": "code",
   "execution_count": 14,
   "metadata": {},
   "outputs": [],
   "source": [
    "lm = smf.ols('age_norm ~ shopping_amount', data=data_tmp).fit()"
   ]
  },
  {
   "cell_type": "code",
   "execution_count": 15,
   "metadata": {},
   "outputs": [
    {
     "name": "stdout",
     "output_type": "stream",
     "text": [
      "\n",
      "Homogenit Test\n",
      "F: nan p: nan\n",
      "p-values is non-significant, thus homogenity don't hold\n",
      "\n",
      "\n",
      "Shaprio-Wild Test\n",
      "F: 0.9677 p: 0.0007\n",
      "p-values is non-significant, thus normality of residuals don't hold\n"
     ]
    },
    {
     "data": {
      "image/png": "[encoded data removed]",
      "text/plain": [
       "<Figure size 432x288 with 1 Axes>"
      ]
     },
     "metadata": {
      "needs_background": "light"
     },
     "output_type": "display_data"
    },
    {
     "name": "stdout",
     "output_type": "stream",
     "text": [
      "\n",
      "Independence test\n"
     ]
    },
    {
     "name": "stderr",
     "output_type": "stream",
     "text": [
      "C:\\ProgramData\\Anaconda3\\lib\\site-packages\\numpy\\lib\\function_base.py:3405: RuntimeWarning: Invalid value encountered in median\n",
      "  r = func(a, **kwargs)\n",
      "C:\\ProgramData\\Anaconda3\\lib\\site-packages\\statsmodels\\nonparametric\\smoothers_lowess.py:165: RuntimeWarning: invalid value encountered in greater_equal\n",
      "  res = _lowess(y, x, frac=frac, it=it, delta=delta)\n"
     ]
    },
    {
     "data": {
      "image/png": "[encoded data removed]",
      "text/plain": [
       "<Figure size 432x288 with 1 Axes>"
      ]
     },
     "metadata": {
      "needs_background": "light"
     },
     "output_type": "display_data"
    }
   ],
   "source": [
    "check_anova_assumptions(lm, 'age_norm', data_tmp)"
   ]
  },
  {
   "cell_type": "markdown",
   "metadata": {},
   "source": [
    "Because the normality of residuals doesn't hold, we'll use non-parametric Kruskal–Wallis H test.\n",
    "\n",
    "\n",
    "##  Kruskal–Wallis"
   ]
  },
  {
   "cell_type": "code",
   "execution_count": 16,
   "metadata": {},
   "outputs": [
    {
     "name": "stdout",
     "output_type": "stream",
     "text": [
      "p-values 0.3742\n"
     ]
    }
   ],
   "source": [
    "# group original data\n",
    "df = [data_tmp.loc[group, 'age'].values for group in data_tmp.groupby('shopping_amount').groups.values()]\n",
    "_, pvalue = stats.kruskal(*df)\n",
    "\n",
    "print('p-values %.4f' % pvalue)"
   ]
  },
  {
   "cell_type": "markdown",
   "metadata": {},
   "source": [
    "P value is p>0.37, thus we accept the null hypothesis that the population medians of all of the groups are equal. With other words, that means tha sopping amount don't vary show upon ages."
   ]
  },
  {
   "cell_type": "markdown",
   "metadata": {},
   "source": [
    "# A.2. sleeping_time ~ shopping_amount"
   ]
  },
  {
   "cell_type": "code",
   "execution_count": 17,
   "metadata": {},
   "outputs": [
    {
     "data": {
      "image/png": "[encoded data removed]",
      "text/plain": [
       "<Figure size 432x288 with 1 Axes>"
      ]
     },
     "metadata": {
      "needs_background": "light"
     },
     "output_type": "display_data"
    }
   ],
   "source": [
    "data_tmp = data.copy()\n",
    "# check outliers\n",
    "plt.boxplot(x=data_tmp['sleeping_time'])\n",
    "plt.show()"
   ]
  },
  {
   "cell_type": "code",
   "execution_count": 18,
   "metadata": {},
   "outputs": [],
   "source": [
    "# remove outliers\n",
    "data_tmp = statUtils.remove_outliers(data_tmp, 'sleeping_time')"
   ]
  },
  {
   "cell_type": "code",
   "execution_count": 19,
   "metadata": {},
   "outputs": [
    {
     "data": {
      "image/png": "[encoded data removed]",
      "text/plain": [
       "<Figure size 432x288 with 1 Axes>"
      ]
     },
     "metadata": {
      "needs_background": "light"
     },
     "output_type": "display_data"
    },
    {
     "data": {
      "text/plain": [
       "<matplotlib.axes._subplots.AxesSubplot at 0x28004c03908>"
      ]
     },
     "execution_count": 19,
     "metadata": {},
     "output_type": "execute_result"
    },
    {
     "data": {
      "image/png": "[encoded data removed]",
      "text/plain": [
       "<Figure size 432x288 with 1 Axes>"
      ]
     },
     "metadata": {
      "needs_background": "light"
     },
     "output_type": "display_data"
    }
   ],
   "source": [
    "# BEFORE TRANSFORMATION\n",
    "plt.hist(data_tmp['sleeping_time'])\n",
    "plt.show()\n",
    "\n",
    "sns.kdeplot(data_tmp['sleeping_time'], cumulative=False, bw=2)"
   ]
  },
  {
   "cell_type": "markdown",
   "metadata": {},
   "source": [
    "Sleeping time follows the normal distribution, thus we'll keep it like that."
   ]
  },
  {
   "cell_type": "code",
   "execution_count": 20,
   "metadata": {},
   "outputs": [
    {
     "name": "stdout",
     "output_type": "stream",
     "text": [
      "+-------------------+-----+-----------------+-----------------+\n",
      "| shopping_amount   |   N |   sleeping_time |   sleeping_time |\n",
      "|                   |     |            mean |             std |\n",
      "+===================+=====+=================+=================+\n",
      "| less              |  61 |            7.15 |            1.17 |\n",
      "+-------------------+-----+-----------------+-----------------+\n",
      "| much              |  46 |            7.32 |            1.31 |\n",
      "+-------------------+-----+-----------------+-----------------+\n",
      "| normal            |  57 |            7.17 |            1.39 |\n",
      "+-------------------+-----+-----------------+-----------------+\n"
     ]
    }
   ],
   "source": [
    "create_1cat_table(data_tmp, 'shopping_amount', 'sleeping_time')"
   ]
  },
  {
   "cell_type": "code",
   "execution_count": 21,
   "metadata": {},
   "outputs": [],
   "source": [
    "lm = smf.ols('sleeping_time ~ shopping_amount', data=data_tmp).fit()"
   ]
  },
  {
   "cell_type": "code",
   "execution_count": 22,
   "metadata": {},
   "outputs": [
    {
     "name": "stdout",
     "output_type": "stream",
     "text": [
      "\n",
      "Homogenit Test\n",
      "F: nan p: nan\n",
      "p-values is non-significant, thus homogenity don't hold\n",
      "\n",
      "\n",
      "Shaprio-Wild Test\n",
      "F: 0.9555 p: 0.0000\n",
      "p-values is non-significant, thus normality of residuals don't hold\n"
     ]
    },
    {
     "data": {
      "image/png": "[encoded data removed]",
      "text/plain": [
       "<Figure size 432x288 with 1 Axes>"
      ]
     },
     "metadata": {
      "needs_background": "light"
     },
     "output_type": "display_data"
    },
    {
     "name": "stdout",
     "output_type": "stream",
     "text": [
      "\n",
      "Independence test\n"
     ]
    },
    {
     "data": {
      "image/png": "[encoded data removed]",
      "text/plain": [
       "<Figure size 432x288 with 1 Axes>"
      ]
     },
     "metadata": {
      "needs_background": "light"
     },
     "output_type": "display_data"
    }
   ],
   "source": [
    "check_anova_assumptions(lm, 'sleeping_time', data_tmp)"
   ]
  },
  {
   "cell_type": "markdown",
   "metadata": {},
   "source": [
    "We can see that both homogenity and independence of varaibles are not met. Thus, we'll use non-parametric aproach agian.\n",
    "\n",
    "##  Kruskal–Wallis"
   ]
  },
  {
   "cell_type": "code",
   "execution_count": 23,
   "metadata": {},
   "outputs": [
    {
     "name": "stdout",
     "output_type": "stream",
     "text": [
      "p-values 0.6131\n"
     ]
    }
   ],
   "source": [
    "# group original data\n",
    "df = [data_tmp.loc[group, 'sleeping_time'].values for group in data_tmp.groupby('shopping_amount').groups.values()]\n",
    "_, pvalue = stats.kruskal(*df)\n",
    "\n",
    "print('p-values %.4f' % pvalue)"
   ]
  },
  {
   "cell_type": "markdown",
   "metadata": {},
   "source": [
    "With p value is p>0.61, we conclude that null hypothesis that the population medians of all of the groups are equal is right, and sleeping time doen't affect shopping amount."
   ]
  },
  {
   "cell_type": "markdown",
   "metadata": {},
   "source": [
    "# A.3. sporting_activity_(h/week) ~ shopping_amount"
   ]
  },
  {
   "cell_type": "code",
   "execution_count": 24,
   "metadata": {},
   "outputs": [
    {
     "data": {
      "image/png": "[encoded data removed]",
      "text/plain": [
       "<Figure size 432x288 with 1 Axes>"
      ]
     },
     "metadata": {
      "needs_background": "light"
     },
     "output_type": "display_data"
    }
   ],
   "source": [
    "data_tmp = data.copy()\n",
    "# raname shopping duration (in minutes) for easy handling\n",
    "data_tmp=data_tmp.rename(columns = {'sporting_activity_(h/week)':'sport_dur'})\n",
    "\n",
    "# check outliers\n",
    "plt.boxplot(data_tmp['sport_dur'])\n",
    "plt.show()"
   ]
  },
  {
   "cell_type": "code",
   "execution_count": 25,
   "metadata": {},
   "outputs": [],
   "source": [
    "## replace <=0 values with 0.1\n",
    "data_tmp.loc[data_tmp['sport_dur'] <= 0, 'sport_dur'] = 0.1\n",
    "\n",
    "# remove outliers\n",
    "data_tmp = statUtils.remove_outliers(data_tmp, 'sport_dur')"
   ]
  },
  {
   "cell_type": "code",
   "execution_count": 26,
   "metadata": {},
   "outputs": [
    {
     "data": {
      "image/png": "[encoded data removed]",
      "text/plain": [
       "<Figure size 432x288 with 1 Axes>"
      ]
     },
     "metadata": {
      "needs_background": "light"
     },
     "output_type": "display_data"
    },
    {
     "data": {
      "text/plain": [
       "<matplotlib.axes._subplots.AxesSubplot at 0x28004d4c288>"
      ]
     },
     "execution_count": 26,
     "metadata": {},
     "output_type": "execute_result"
    },
    {
     "data": {
      "image/png": "[encoded data removed]",
      "text/plain": [
       "<Figure size 432x288 with 1 Axes>"
      ]
     },
     "metadata": {
      "needs_background": "light"
     },
     "output_type": "display_data"
    }
   ],
   "source": [
    "# BEFORE TRANSFORMATION\n",
    "plt.hist(data_tmp['sport_dur'])\n",
    "plt.show()\n",
    "\n",
    "sns.kdeplot(data_tmp['sport_dur'], cumulative=False, bw=2)"
   ]
  },
  {
   "cell_type": "markdown",
   "metadata": {},
   "source": [
    "Data is skewed, thus do log transfomation."
   ]
  },
  {
   "cell_type": "code",
   "execution_count": 27,
   "metadata": {},
   "outputs": [
    {
     "data": {
      "image/png": "[encoded data removed]",
      "text/plain": [
       "<Figure size 432x288 with 1 Axes>"
      ]
     },
     "metadata": {
      "needs_background": "light"
     },
     "output_type": "display_data"
    },
    {
     "data": {
      "text/plain": [
       "<matplotlib.axes._subplots.AxesSubplot at 0x28004f59b48>"
      ]
     },
     "execution_count": 27,
     "metadata": {},
     "output_type": "execute_result"
    },
    {
     "data": {
      "image/png": "[encoded data removed]",
      "text/plain": [
       "<Figure size 432x288 with 1 Axes>"
      ]
     },
     "metadata": {
      "needs_background": "light"
     },
     "output_type": "display_data"
    }
   ],
   "source": [
    "# gaussian transformation\n",
    "data_tmp['sport_dur_norm'], _ = stats.boxcox(data_tmp['sport_dur'])\n",
    "\n",
    "\n",
    "# # AFTER TRANSFORMATION\n",
    "plt.hist(data_tmp['sport_dur_norm'])\n",
    "plt.show()\n",
    "\n",
    "sns.kdeplot(data_tmp['sport_dur_norm'], cumulative=False, bw=2)"
   ]
  },
  {
   "cell_type": "code",
   "execution_count": 28,
   "metadata": {},
   "outputs": [
    {
     "name": "stdout",
     "output_type": "stream",
     "text": [
      "+-------------------+-----+------------------+------------------+\n",
      "| shopping_amount   |   N |   sport_dur_norm |   sport_dur_norm |\n",
      "|                   |     |             mean |              std |\n",
      "+===================+=====+==================+==================+\n",
      "| less              |  60 |             0.8  |             1.46 |\n",
      "+-------------------+-----+------------------+------------------+\n",
      "| much              |  44 |             0.6  |             1.36 |\n",
      "+-------------------+-----+------------------+------------------+\n",
      "| normal            |  56 |             0.84 |             1.45 |\n",
      "+-------------------+-----+------------------+------------------+\n"
     ]
    }
   ],
   "source": [
    "create_1cat_table(data_tmp, 'shopping_amount', 'sport_dur_norm')"
   ]
  },
  {
   "cell_type": "code",
   "execution_count": 29,
   "metadata": {},
   "outputs": [],
   "source": [
    "lm = smf.ols('sport_dur_norm ~ shopping_amount', data=data_tmp).fit()"
   ]
  },
  {
   "cell_type": "code",
   "execution_count": 30,
   "metadata": {},
   "outputs": [
    {
     "name": "stdout",
     "output_type": "stream",
     "text": [
      "\n",
      "Homogenit Test\n",
      "F: nan p: nan\n",
      "p-values is non-significant, thus homogenity don't hold\n",
      "\n",
      "\n",
      "Shaprio-Wild Test\n",
      "F: 0.9395 p: 0.0000\n",
      "p-values is non-significant, thus normality of residuals don't hold\n"
     ]
    },
    {
     "data": {
      "image/png": "[encoded data removed]",
      "text/plain": [
       "<Figure size 432x288 with 1 Axes>"
      ]
     },
     "metadata": {
      "needs_background": "light"
     },
     "output_type": "display_data"
    },
    {
     "name": "stdout",
     "output_type": "stream",
     "text": [
      "\n",
      "Independence test\n"
     ]
    },
    {
     "name": "stderr",
     "output_type": "stream",
     "text": [
      "C:\\ProgramData\\Anaconda3\\lib\\site-packages\\numpy\\lib\\function_base.py:3405: RuntimeWarning: Invalid value encountered in median\n",
      "  r = func(a, **kwargs)\n",
      "C:\\ProgramData\\Anaconda3\\lib\\site-packages\\statsmodels\\nonparametric\\smoothers_lowess.py:165: RuntimeWarning: invalid value encountered in greater_equal\n",
      "  res = _lowess(y, x, frac=frac, it=it, delta=delta)\n"
     ]
    },
    {
     "data": {
      "image/png": "[encoded data removed]",
      "text/plain": [
       "<Figure size 432x288 with 1 Axes>"
      ]
     },
     "metadata": {
      "needs_background": "light"
     },
     "output_type": "display_data"
    }
   ],
   "source": [
    "check_anova_assumptions(lm, 'sport_dur_norm', data_tmp)"
   ]
  },
  {
   "cell_type": "markdown",
   "metadata": {},
   "source": [
    "The normality of residuals dosn't hold.\n",
    "\n",
    "##  Kruskal–Wallis"
   ]
  },
  {
   "cell_type": "code",
   "execution_count": 31,
   "metadata": {},
   "outputs": [
    {
     "name": "stdout",
     "output_type": "stream",
     "text": [
      "p-values 0.6209\n"
     ]
    }
   ],
   "source": [
    "# group original data\n",
    "df = [data_tmp.loc[group, 'sport_dur'].values for group in data_tmp.groupby('shopping_amount').groups.values()]\n",
    "_, pvalue = stats.kruskal(*df)\n",
    "\n",
    "print('p-values %.4f' % pvalue)"
   ]
  },
  {
   "cell_type": "markdown",
   "metadata": {},
   "source": [
    "With p value is p>0.62, we conclude that null hypothesis that the population medians of all of the groups are equal is right, and sport activity time doen't affect shopping amount."
   ]
  },
  {
   "cell_type": "markdown",
   "metadata": {},
   "source": [
    "# A.4. BMI ~ shopping_amount"
   ]
  },
  {
   "cell_type": "code",
   "execution_count": 32,
   "metadata": {},
   "outputs": [
    {
     "data": {
      "image/png": "[encoded data removed]",
      "text/plain": [
       "<Figure size 432x288 with 1 Axes>"
      ]
     },
     "metadata": {
      "needs_background": "light"
     },
     "output_type": "display_data"
    }
   ],
   "source": [
    "data_tmp = data.copy()\n",
    "\n",
    "# check outliers\n",
    "plt.boxplot(data_tmp['BMI'])\n",
    "plt.show()"
   ]
  },
  {
   "cell_type": "code",
   "execution_count": 33,
   "metadata": {},
   "outputs": [],
   "source": [
    "# remove outliers\n",
    "data_tmp = statUtils.remove_outliers(data_tmp, 'BMI')"
   ]
  },
  {
   "cell_type": "code",
   "execution_count": 34,
   "metadata": {},
   "outputs": [
    {
     "data": {
      "image/png": "[encoded data removed]",
      "text/plain": [
       "<Figure size 432x288 with 1 Axes>"
      ]
     },
     "metadata": {
      "needs_background": "light"
     },
     "output_type": "display_data"
    },
    {
     "data": {
      "text/plain": [
       "<matplotlib.axes._subplots.AxesSubplot at 0x28004e02308>"
      ]
     },
     "execution_count": 34,
     "metadata": {},
     "output_type": "execute_result"
    },
    {
     "data": {
      "image/png": "[encoded data removed]",
      "text/plain": [
       "<Figure size 432x288 with 1 Axes>"
      ]
     },
     "metadata": {
      "needs_background": "light"
     },
     "output_type": "display_data"
    }
   ],
   "source": [
    "# BEFORE TRANSFORMATION\n",
    "plt.hist(data_tmp['BMI'])\n",
    "plt.show()\n",
    "\n",
    "sns.kdeplot(data_tmp['BMI'], cumulative=False, bw=2)"
   ]
  },
  {
   "cell_type": "markdown",
   "metadata": {},
   "source": [
    "It follows the normal distribution, so we leave it like this."
   ]
  },
  {
   "cell_type": "code",
   "execution_count": 35,
   "metadata": {},
   "outputs": [
    {
     "name": "stdout",
     "output_type": "stream",
     "text": [
      "+-------------------+-----+--------+-------+\n",
      "| shopping_amount   |   N |    BMI |   BMI |\n",
      "|                   |     |   mean |   std |\n",
      "+===================+=====+========+=======+\n",
      "| less              |  60 |  25.54 |  3.91 |\n",
      "+-------------------+-----+--------+-------+\n",
      "| much              |  45 |  24.5  |  4.15 |\n",
      "+-------------------+-----+--------+-------+\n",
      "| normal            |  58 |  24.93 |  3.94 |\n",
      "+-------------------+-----+--------+-------+\n"
     ]
    }
   ],
   "source": [
    "create_1cat_table(data_tmp, 'shopping_amount', 'BMI')"
   ]
  },
  {
   "cell_type": "code",
   "execution_count": 36,
   "metadata": {},
   "outputs": [],
   "source": [
    "lm = smf.ols('BMI ~ shopping_amount', data=data_tmp).fit()"
   ]
  },
  {
   "cell_type": "code",
   "execution_count": 37,
   "metadata": {},
   "outputs": [
    {
     "name": "stdout",
     "output_type": "stream",
     "text": [
      "\n",
      "Homogenit Test\n",
      "F: nan p: nan\n",
      "p-values is non-significant, thus homogenity don't hold\n",
      "\n",
      "\n",
      "Shaprio-Wild Test\n",
      "F: 0.9834 p: 0.0480\n",
      "p-values is non-significant, thus normality of residuals don't hold\n"
     ]
    },
    {
     "data": {
      "image/png": "[encoded data removed]",
      "text/plain": [
       "<Figure size 432x288 with 1 Axes>"
      ]
     },
     "metadata": {
      "needs_background": "light"
     },
     "output_type": "display_data"
    },
    {
     "name": "stdout",
     "output_type": "stream",
     "text": [
      "\n",
      "Independence test\n"
     ]
    },
    {
     "data": {
      "image/png": "[encoded data removed]",
      "text/plain": [
       "<Figure size 432x288 with 1 Axes>"
      ]
     },
     "metadata": {
      "needs_background": "light"
     },
     "output_type": "display_data"
    }
   ],
   "source": [
    "check_anova_assumptions(lm, 'BMI', data_tmp)"
   ]
  },
  {
   "cell_type": "markdown",
   "metadata": {},
   "source": [
    "As the assumptions are not meet, we'll use non-parametric test.\n",
    "\n",
    "##  Kruskal–Wallis"
   ]
  },
  {
   "cell_type": "code",
   "execution_count": 38,
   "metadata": {},
   "outputs": [
    {
     "name": "stdout",
     "output_type": "stream",
     "text": [
      "p-value 0.3237\n"
     ]
    }
   ],
   "source": [
    "# group original data\n",
    "df = [data_tmp.loc[group, 'BMI'].values for group in data_tmp.groupby('shopping_amount').groups.values()]\n",
    "_, pvalue = stats.kruskal(*df)\n",
    "\n",
    "print('p-value %.4f' % pvalue)"
   ]
  },
  {
   "cell_type": "markdown",
   "metadata": {},
   "source": [
    "With a p value siginificnat, we accepct that shopping amount is not effected by BMIs.\n",
    "\n",
    "# A.5. outdoor_temeperature ~ shopping_amount"
   ]
  },
  {
   "cell_type": "code",
   "execution_count": 39,
   "metadata": {},
   "outputs": [
    {
     "data": {
      "image/png": "[encoded data removed]",
      "text/plain": [
       "<Figure size 432x288 with 1 Axes>"
      ]
     },
     "metadata": {
      "needs_background": "light"
     },
     "output_type": "display_data"
    }
   ],
   "source": [
    "data_tmp = data.copy()\n",
    "\n",
    "# check outliers\n",
    "plt.boxplot(data_tmp['outdoor_temperature'])\n",
    "plt.show()"
   ]
  },
  {
   "cell_type": "markdown",
   "metadata": {},
   "source": [
    "No outlier!"
   ]
  },
  {
   "cell_type": "code",
   "execution_count": 40,
   "metadata": {},
   "outputs": [
    {
     "data": {
      "image/png": "[encoded data removed]",
      "text/plain": [
       "<Figure size 432x288 with 1 Axes>"
      ]
     },
     "metadata": {
      "needs_background": "light"
     },
     "output_type": "display_data"
    },
    {
     "data": {
      "text/plain": [
       "<matplotlib.axes._subplots.AxesSubplot at 0x28004b625c8>"
      ]
     },
     "execution_count": 40,
     "metadata": {},
     "output_type": "execute_result"
    },
    {
     "data": {
      "image/png": "[encoded data removed]",
      "text/plain": [
       "<Figure size 432x288 with 1 Axes>"
      ]
     },
     "metadata": {
      "needs_background": "light"
     },
     "output_type": "display_data"
    }
   ],
   "source": [
    "# BEFORE TRANSFORMATION\n",
    "plt.hist(data_tmp['outdoor_temperature'])\n",
    "plt.show()\n",
    "\n",
    "sns.kdeplot(data_tmp['outdoor_temperature'], cumulative=False, bw=2)"
   ]
  },
  {
   "cell_type": "markdown",
   "metadata": {},
   "source": [
    "We'll accepct that it follows normal distribution."
   ]
  },
  {
   "cell_type": "code",
   "execution_count": 41,
   "metadata": {},
   "outputs": [
    {
     "name": "stdout",
     "output_type": "stream",
     "text": [
      "+-------------------+-----+-----------------------+-----------------------+\n",
      "| shopping_amount   |   N |   outdoor_temperature |   outdoor_temperature |\n",
      "|                   |     |                  mean |                   std |\n",
      "+===================+=====+=======================+=======================+\n",
      "| less              |  61 |                 21.64 |                  3.73 |\n",
      "+-------------------+-----+-----------------------+-----------------------+\n",
      "| much              |  46 |                 21.04 |                  3.56 |\n",
      "+-------------------+-----+-----------------------+-----------------------+\n",
      "| normal            |  58 |                 20.55 |                  3.22 |\n",
      "+-------------------+-----+-----------------------+-----------------------+\n"
     ]
    }
   ],
   "source": [
    "create_1cat_table(data_tmp, 'shopping_amount', 'outdoor_temperature')"
   ]
  },
  {
   "cell_type": "code",
   "execution_count": 42,
   "metadata": {},
   "outputs": [],
   "source": [
    "lm = smf.ols('outdoor_temperature ~ shopping_amount', data=data_tmp).fit()"
   ]
  },
  {
   "cell_type": "code",
   "execution_count": 43,
   "metadata": {},
   "outputs": [
    {
     "name": "stdout",
     "output_type": "stream",
     "text": [
      "\n",
      "Homogenit Test\n",
      "F: nan p: nan\n",
      "p-values is non-significant, thus homogenity don't hold\n",
      "\n",
      "\n",
      "Shaprio-Wild Test\n",
      "F: 0.9683 p: 0.0008\n",
      "p-values is non-significant, thus normality of residuals don't hold\n"
     ]
    },
    {
     "data": {
      "image/png": "[encoded data removed]",
      "text/plain": [
       "<Figure size 432x288 with 1 Axes>"
      ]
     },
     "metadata": {
      "needs_background": "light"
     },
     "output_type": "display_data"
    },
    {
     "name": "stdout",
     "output_type": "stream",
     "text": [
      "\n",
      "Independence test\n"
     ]
    },
    {
     "data": {
      "image/png": "[encoded data removed]",
      "text/plain": [
       "<Figure size 432x288 with 1 Axes>"
      ]
     },
     "metadata": {
      "needs_background": "light"
     },
     "output_type": "display_data"
    }
   ],
   "source": [
    "check_anova_assumptions(lm, 'outdoor_temperature', data_tmp)"
   ]
  },
  {
   "cell_type": "markdown",
   "metadata": {},
   "source": [
    "As the assumptions are not meet, we'll use non-parametric test.\n",
    "\n",
    "##  Kruskal–Wallis"
   ]
  },
  {
   "cell_type": "code",
   "execution_count": 44,
   "metadata": {},
   "outputs": [
    {
     "name": "stdout",
     "output_type": "stream",
     "text": [
      "p-value 0.2279\n"
     ]
    }
   ],
   "source": [
    "# group original data\n",
    "df = [data_tmp.loc[group, 'outdoor_temperature'].values for group in data_tmp.groupby('shopping_amount').groups.values()]\n",
    "_, pvalue = stats.kruskal(*df)\n",
    "\n",
    "print('p-value %.4f' % pvalue)"
   ]
  },
  {
   "cell_type": "markdown",
   "metadata": {},
   "source": [
    "With a p value siginificnat, we conclude that shopping amounts don't differ upon BMIs.\n",
    "\n",
    "# A.6. ex_max ~ shopping_amount "
   ]
  },
  {
   "cell_type": "code",
   "execution_count": 45,
   "metadata": {},
   "outputs": [
    {
     "data": {
      "image/png": "[encoded data removed]",
      "text/plain": [
       "<Figure size 432x288 with 1 Axes>"
      ]
     },
     "metadata": {
      "needs_background": "light"
     },
     "output_type": "display_data"
    }
   ],
   "source": [
    "data_tmp = data.copy()\n",
    "\n",
    "# check outliers\n",
    "plt.boxplot(data_tmp['ex_max'])\n",
    "plt.show()"
   ]
  },
  {
   "cell_type": "code",
   "execution_count": 46,
   "metadata": {},
   "outputs": [],
   "source": [
    "# remove outliers\n",
    "data_tmp = statUtils.remove_outliers(data_tmp, 'ex_max')"
   ]
  },
  {
   "cell_type": "code",
   "execution_count": 47,
   "metadata": {},
   "outputs": [
    {
     "data": {
      "image/png": "[encoded data removed]",
      "text/plain": [
       "<Figure size 432x288 with 1 Axes>"
      ]
     },
     "metadata": {
      "needs_background": "light"
     },
     "output_type": "display_data"
    },
    {
     "data": {
      "text/plain": [
       "<matplotlib.axes._subplots.AxesSubplot at 0x280060d0988>"
      ]
     },
     "execution_count": 47,
     "metadata": {},
     "output_type": "execute_result"
    },
    {
     "data": {
      "image/png": "[encoded data removed]",
      "text/plain": [
       "<Figure size 432x288 with 1 Axes>"
      ]
     },
     "metadata": {
      "needs_background": "light"
     },
     "output_type": "display_data"
    }
   ],
   "source": [
    "# BEFORE TRANSFORMATION\n",
    "plt.hist(data_tmp['ex_max'])\n",
    "plt.show()\n",
    "\n",
    "sns.kdeplot(data_tmp['ex_max'], cumulative=False, bw=2)"
   ]
  },
  {
   "cell_type": "markdown",
   "metadata": {},
   "source": [
    "We'll it looks like it follows normal distribution, but we better normmalize it."
   ]
  },
  {
   "cell_type": "code",
   "execution_count": 48,
   "metadata": {},
   "outputs": [
    {
     "data": {
      "image/png": "[encoded data removed]",
      "text/plain": [
       "<Figure size 432x288 with 1 Axes>"
      ]
     },
     "metadata": {
      "needs_background": "light"
     },
     "output_type": "display_data"
    },
    {
     "data": {
      "text/plain": [
       "<matplotlib.axes._subplots.AxesSubplot at 0x28004649e08>"
      ]
     },
     "execution_count": 48,
     "metadata": {},
     "output_type": "execute_result"
    },
    {
     "data": {
      "image/png": "[encoded data removed]",
      "text/plain": [
       "<Figure size 432x288 with 1 Axes>"
      ]
     },
     "metadata": {
      "needs_background": "light"
     },
     "output_type": "display_data"
    }
   ],
   "source": [
    "# gaussian transformation\n",
    "data_tmp['ex_max_norm'], _ = stats.boxcox(data_tmp['ex_max'])\n",
    "\n",
    "\n",
    "# # AFTER TRANSFORMATION\n",
    "plt.hist(data_tmp['ex_max_norm'])\n",
    "plt.show()\n",
    "\n",
    "sns.kdeplot(data_tmp['ex_max_norm'], cumulative=False, bw=2)"
   ]
  },
  {
   "cell_type": "code",
   "execution_count": 49,
   "metadata": {},
   "outputs": [
    {
     "name": "stdout",
     "output_type": "stream",
     "text": [
      "+-------------------+-----+---------------+---------------+\n",
      "| shopping_amount   |   N |   ex_max_norm |   ex_max_norm |\n",
      "|                   |     |          mean |           std |\n",
      "+===================+=====+===============+===============+\n",
      "| less              |  60 |         57.04 |          6.27 |\n",
      "+-------------------+-----+---------------+---------------+\n",
      "| much              |  45 |         56.84 |          5.26 |\n",
      "+-------------------+-----+---------------+---------------+\n",
      "| normal            |  58 |         57.52 |          4.79 |\n",
      "+-------------------+-----+---------------+---------------+\n"
     ]
    }
   ],
   "source": [
    "create_1cat_table(data_tmp, 'shopping_amount', 'ex_max_norm')"
   ]
  },
  {
   "cell_type": "code",
   "execution_count": 50,
   "metadata": {},
   "outputs": [],
   "source": [
    "lm = smf.ols('ex_max_norm ~ shopping_amount', data=data_tmp).fit()"
   ]
  },
  {
   "cell_type": "code",
   "execution_count": 51,
   "metadata": {},
   "outputs": [
    {
     "name": "stdout",
     "output_type": "stream",
     "text": [
      "\n",
      "Homogenit Test\n",
      "F: nan p: nan\n",
      "p-values is non-significant, thus homogenity don't hold\n",
      "\n",
      "\n",
      "Shaprio-Wild Test\n",
      "F: 0.9952 p: 0.8736\n",
      "p-values is significant, thus residuals are normally distributed\n"
     ]
    },
    {
     "data": {
      "image/png": "[encoded data removed]",
      "text/plain": [
       "<Figure size 432x288 with 1 Axes>"
      ]
     },
     "metadata": {
      "needs_background": "light"
     },
     "output_type": "display_data"
    },
    {
     "name": "stdout",
     "output_type": "stream",
     "text": [
      "\n",
      "Independence test\n"
     ]
    },
    {
     "data": {
      "image/png": "[encoded data removed]",
      "text/plain": [
       "<Figure size 432x288 with 1 Axes>"
      ]
     },
     "metadata": {
      "needs_background": "light"
     },
     "output_type": "display_data"
    }
   ],
   "source": [
    "check_anova_assumptions(lm, 'ex_max_norm', data_tmp)"
   ]
  },
  {
   "cell_type": "markdown",
   "metadata": {},
   "source": [
    "As all the assumptions are met now, finaly! We can do ANOVa test."
   ]
  },
  {
   "cell_type": "markdown",
   "metadata": {},
   "source": [
    "### Anova"
   ]
  },
  {
   "cell_type": "code",
   "execution_count": 52,
   "metadata": {
    "scrolled": true
   },
   "outputs": [
    {
     "data": {
      "text/html": [
       "<div>\n",
       "<style scoped>\n",
       "    .dataframe tbody tr th:only-of-type {\n",
       "        vertical-align: middle;\n",
       "    }\n",
       "\n",
       "    .dataframe tbody tr th {\n",
       "        vertical-align: top;\n",
       "    }\n",
       "\n",
       "    .dataframe thead th {\n",
       "        text-align: right;\n",
       "    }\n",
       "</style>\n",
       "<table border=\"1\" class=\"dataframe\">\n",
       "  <thead>\n",
       "    <tr style=\"text-align: right;\">\n",
       "      <th></th>\n",
       "      <th>df</th>\n",
       "      <th>sum_sq</th>\n",
       "      <th>mean_sq</th>\n",
       "      <th>F</th>\n",
       "      <th>PR(&gt;F)</th>\n",
       "    </tr>\n",
       "  </thead>\n",
       "  <tbody>\n",
       "    <tr>\n",
       "      <td>shopping_amount</td>\n",
       "      <td>2.0</td>\n",
       "      <td>12.761917</td>\n",
       "      <td>6.380958</td>\n",
       "      <td>0.206937</td>\n",
       "      <td>0.813288</td>\n",
       "    </tr>\n",
       "    <tr>\n",
       "      <td>Residual</td>\n",
       "      <td>160.0</td>\n",
       "      <td>4933.634286</td>\n",
       "      <td>30.835214</td>\n",
       "      <td>NaN</td>\n",
       "      <td>NaN</td>\n",
       "    </tr>\n",
       "  </tbody>\n",
       "</table>\n",
       "</div>"
      ],
      "text/plain": [
       "                    df       sum_sq    mean_sq         F    PR(>F)\n",
       "shopping_amount    2.0    12.761917   6.380958  0.206937  0.813288\n",
       "Residual         160.0  4933.634286  30.835214       NaN       NaN"
      ]
     },
     "execution_count": 52,
     "metadata": {},
     "output_type": "execute_result"
    }
   ],
   "source": [
    "sm.stats.anova_lm(lm, type=1)"
   ]
  },
  {
   "cell_type": "markdown",
   "metadata": {},
   "source": [
    "Anova suggest us that shopping amount is not affected by ex_max. \n",
    "\n",
    "# A.7. hr_max ~ shopping amount"
   ]
  },
  {
   "cell_type": "code",
   "execution_count": 53,
   "metadata": {},
   "outputs": [
    {
     "data": {
      "image/png": "[encoded data removed]",
      "text/plain": [
       "<Figure size 432x288 with 1 Axes>"
      ]
     },
     "metadata": {
      "needs_background": "light"
     },
     "output_type": "display_data"
    }
   ],
   "source": [
    "data_tmp = data.copy()\n",
    "\n",
    "# check outliers\n",
    "plt.boxplot(data_tmp['hr_max'])\n",
    "plt.show()"
   ]
  },
  {
   "cell_type": "code",
   "execution_count": 54,
   "metadata": {},
   "outputs": [],
   "source": [
    "# remove outliers\n",
    "data_tmp = statUtils.remove_outliers(data_tmp, 'hr_max')"
   ]
  },
  {
   "cell_type": "code",
   "execution_count": 55,
   "metadata": {},
   "outputs": [
    {
     "data": {
      "image/png": "[encoded data removed]",
      "text/plain": [
       "<Figure size 432x288 with 1 Axes>"
      ]
     },
     "metadata": {
      "needs_background": "light"
     },
     "output_type": "display_data"
    },
    {
     "data": {
      "text/plain": [
       "<matplotlib.axes._subplots.AxesSubplot at 0x28004f4cec8>"
      ]
     },
     "execution_count": 55,
     "metadata": {},
     "output_type": "execute_result"
    },
    {
     "data": {
      "image/png": "[encoded data removed]",
      "text/plain": [
       "<Figure size 432x288 with 1 Axes>"
      ]
     },
     "metadata": {
      "needs_background": "light"
     },
     "output_type": "display_data"
    }
   ],
   "source": [
    "# BEFORE TRANSFORMATION\n",
    "plt.hist(data_tmp['hr_max'])\n",
    "plt.show()\n",
    "\n",
    "sns.kdeplot(data_tmp['hr_max'], cumulative=False, bw=2)"
   ]
  },
  {
   "cell_type": "markdown",
   "metadata": {},
   "source": [
    "We'll it looks like it follows normal distribution, but we better normmalize it."
   ]
  },
  {
   "cell_type": "code",
   "execution_count": 56,
   "metadata": {},
   "outputs": [
    {
     "data": {
      "image/png": "[encoded data removed]",
      "text/plain": [
       "<Figure size 432x288 with 1 Axes>"
      ]
     },
     "metadata": {
      "needs_background": "light"
     },
     "output_type": "display_data"
    },
    {
     "data": {
      "text/plain": [
       "<matplotlib.axes._subplots.AxesSubplot at 0x28006163988>"
      ]
     },
     "execution_count": 56,
     "metadata": {},
     "output_type": "execute_result"
    },
    {
     "data": {
      "image/png": "[encoded data removed]",
      "text/plain": [
       "<Figure size 432x288 with 1 Axes>"
      ]
     },
     "metadata": {
      "needs_background": "light"
     },
     "output_type": "display_data"
    }
   ],
   "source": [
    "# gaussian transformation\n",
    "data_tmp['hr_max_norm'], _ = stats.boxcox(data_tmp['hr_max'])\n",
    "\n",
    "\n",
    "# # AFTER TRANSFORMATION\n",
    "plt.hist(data_tmp['hr_max_norm'])\n",
    "plt.show()\n",
    "\n",
    "sns.kdeplot(data_tmp['hr_max_norm'], cumulative=False, bw=2)"
   ]
  },
  {
   "cell_type": "code",
   "execution_count": 57,
   "metadata": {},
   "outputs": [
    {
     "name": "stdout",
     "output_type": "stream",
     "text": [
      "+-------------------+-----+---------------+---------------+\n",
      "| shopping_amount   |   N |   hr_max_norm |   hr_max_norm |\n",
      "|                   |     |          mean |           std |\n",
      "+===================+=====+===============+===============+\n",
      "| less              |  59 |         11.49 |          0.55 |\n",
      "+-------------------+-----+---------------+---------------+\n",
      "| much              |  45 |         11.76 |          0.49 |\n",
      "+-------------------+-----+---------------+---------------+\n",
      "| normal            |  58 |         11.62 |          0.44 |\n",
      "+-------------------+-----+---------------+---------------+\n"
     ]
    }
   ],
   "source": [
    "create_1cat_table(data_tmp, 'shopping_amount', 'hr_max_norm')"
   ]
  },
  {
   "cell_type": "code",
   "execution_count": 58,
   "metadata": {},
   "outputs": [],
   "source": [
    "lm = smf.ols('hr_max_norm ~ shopping_amount', data=data_tmp).fit()"
   ]
  },
  {
   "cell_type": "code",
   "execution_count": 59,
   "metadata": {},
   "outputs": [
    {
     "name": "stdout",
     "output_type": "stream",
     "text": [
      "\n",
      "Homogenit Test\n",
      "F: nan p: nan\n",
      "p-values is non-significant, thus homogenity don't hold\n",
      "\n",
      "\n",
      "Shaprio-Wild Test\n",
      "F: 0.9931 p: 0.6377\n",
      "p-values is significant, thus residuals are normally distributed\n"
     ]
    },
    {
     "data": {
      "image/png": "[encoded data removed]",
      "text/plain": [
       "<Figure size 432x288 with 1 Axes>"
      ]
     },
     "metadata": {
      "needs_background": "light"
     },
     "output_type": "display_data"
    },
    {
     "name": "stdout",
     "output_type": "stream",
     "text": [
      "\n",
      "Independence test\n"
     ]
    },
    {
     "name": "stderr",
     "output_type": "stream",
     "text": [
      "C:\\ProgramData\\Anaconda3\\lib\\site-packages\\numpy\\lib\\function_base.py:3405: RuntimeWarning: Invalid value encountered in median\n",
      "  r = func(a, **kwargs)\n",
      "C:\\ProgramData\\Anaconda3\\lib\\site-packages\\statsmodels\\nonparametric\\smoothers_lowess.py:165: RuntimeWarning: invalid value encountered in greater_equal\n",
      "  res = _lowess(y, x, frac=frac, it=it, delta=delta)\n"
     ]
    },
    {
     "data": {
      "image/png": "[encoded data removed]",
      "text/plain": [
       "<Figure size 432x288 with 1 Axes>"
      ]
     },
     "metadata": {
      "needs_background": "light"
     },
     "output_type": "display_data"
    }
   ],
   "source": [
    "check_anova_assumptions(lm, 'hr_max_norm', data_tmp)"
   ]
  },
  {
   "cell_type": "markdown",
   "metadata": {},
   "source": [
    "As all the assumptions are met now, finaly! We can do ANOVa test."
   ]
  },
  {
   "cell_type": "markdown",
   "metadata": {},
   "source": [
    "## Anova"
   ]
  },
  {
   "cell_type": "code",
   "execution_count": 60,
   "metadata": {
    "scrolled": true
   },
   "outputs": [
    {
     "data": {
      "text/html": [
       "<div>\n",
       "<style scoped>\n",
       "    .dataframe tbody tr th:only-of-type {\n",
       "        vertical-align: middle;\n",
       "    }\n",
       "\n",
       "    .dataframe tbody tr th {\n",
       "        vertical-align: top;\n",
       "    }\n",
       "\n",
       "    .dataframe thead th {\n",
       "        text-align: right;\n",
       "    }\n",
       "</style>\n",
       "<table border=\"1\" class=\"dataframe\">\n",
       "  <thead>\n",
       "    <tr style=\"text-align: right;\">\n",
       "      <th></th>\n",
       "      <th>df</th>\n",
       "      <th>sum_sq</th>\n",
       "      <th>mean_sq</th>\n",
       "      <th>F</th>\n",
       "      <th>PR(&gt;F)</th>\n",
       "    </tr>\n",
       "  </thead>\n",
       "  <tbody>\n",
       "    <tr>\n",
       "      <td>shopping_amount</td>\n",
       "      <td>2.0</td>\n",
       "      <td>1.831022</td>\n",
       "      <td>0.915511</td>\n",
       "      <td>3.655328</td>\n",
       "      <td>0.02805</td>\n",
       "    </tr>\n",
       "    <tr>\n",
       "      <td>Residual</td>\n",
       "      <td>159.0</td>\n",
       "      <td>39.823023</td>\n",
       "      <td>0.250459</td>\n",
       "      <td>NaN</td>\n",
       "      <td>NaN</td>\n",
       "    </tr>\n",
       "  </tbody>\n",
       "</table>\n",
       "</div>"
      ],
      "text/plain": [
       "                    df     sum_sq   mean_sq         F   PR(>F)\n",
       "shopping_amount    2.0   1.831022  0.915511  3.655328  0.02805\n",
       "Residual         159.0  39.823023  0.250459       NaN      NaN"
      ]
     },
     "execution_count": 60,
     "metadata": {},
     "output_type": "execute_result"
    }
   ],
   "source": [
    "sm.stats.anova_lm(lm, type=1)"
   ]
  },
  {
   "cell_type": "markdown",
   "metadata": {},
   "source": [
    "As the ANOVA tels that effect of hr_max on shopping amounts differs significanly. Now using Tukey HSD we can find which groups are significantly different from each other"
   ]
  },
  {
   "cell_type": "markdown",
   "metadata": {},
   "source": [
    "## Tukey HSD"
   ]
  },
  {
   "cell_type": "code",
   "execution_count": 61,
   "metadata": {
    "scrolled": true
   },
   "outputs": [
    {
     "name": "stdout",
     "output_type": "stream",
     "text": [
      "Multiple Comparison of Means - Tukey HSD, FWER=0.05 \n",
      "====================================================\n",
      "group1 group2 meandiff p-adj   lower   upper  reject\n",
      "----------------------------------------------------\n",
      "  less   much   6.3623 0.0236  0.6914 12.0332   True\n",
      "  less normal   3.0275 0.3699 -2.2706  8.3256  False\n",
      "  much normal  -3.3349 0.3514 -9.0269  2.3572  False\n",
      "----------------------------------------------------\n"
     ]
    }
   ],
   "source": [
    "print(pairwise_tukeyhsd(data_tmp['hr_max'], data_tmp['shopping_amount'], alpha=0.05))"
   ]
  },
  {
   "cell_type": "markdown",
   "metadata": {},
   "source": [
    "We can see that \"heavy\" and \"less\" shopping amount vary depend on hr_max (the maximum heart rate during shopping). Using this infomration we can conclude that, when customers get excited about sth, they do more shopping.\n",
    "\n",
    "# A.8. max_time ~ shopping_amount"
   ]
  },
  {
   "cell_type": "code",
   "execution_count": 62,
   "metadata": {},
   "outputs": [
    {
     "data": {
      "image/png": "[encoded data removed]",
      "text/plain": [
       "<Figure size 432x288 with 1 Axes>"
      ]
     },
     "metadata": {
      "needs_background": "light"
     },
     "output_type": "display_data"
    }
   ],
   "source": [
    "data_tmp = data.copy()\n",
    "\n",
    "# check outliers\n",
    "plt.boxplot(data_tmp['max_time'])\n",
    "plt.show()"
   ]
  },
  {
   "cell_type": "code",
   "execution_count": 63,
   "metadata": {},
   "outputs": [],
   "source": [
    "# remove outliersb\n",
    "data_tmp = statUtils.remove_outliers(data_tmp, 'max_time')"
   ]
  },
  {
   "cell_type": "code",
   "execution_count": 64,
   "metadata": {},
   "outputs": [
    {
     "data": {
      "image/png": "[encoded data removed]",
      "text/plain": [
       "<Figure size 432x288 with 1 Axes>"
      ]
     },
     "metadata": {
      "needs_background": "light"
     },
     "output_type": "display_data"
    },
    {
     "data": {
      "text/plain": [
       "<matplotlib.axes._subplots.AxesSubplot at 0x28004edabc8>"
      ]
     },
     "execution_count": 64,
     "metadata": {},
     "output_type": "execute_result"
    },
    {
     "data": {
      "image/png": "[encoded data removed]",
      "text/plain": [
       "<Figure size 432x288 with 1 Axes>"
      ]
     },
     "metadata": {
      "needs_background": "light"
     },
     "output_type": "display_data"
    }
   ],
   "source": [
    "# BEFORE TRANSFORMATION\n",
    "plt.hist(data_tmp['max_time'])\n",
    "plt.show()\n",
    "\n",
    "sns.kdeplot(data_tmp['max_time'], cumulative=False, bw=2)"
   ]
  },
  {
   "cell_type": "markdown",
   "metadata": {},
   "source": [
    "We max_time obviously doesn't follows normal distribution, but we better normalize it."
   ]
  },
  {
   "cell_type": "code",
   "execution_count": 65,
   "metadata": {},
   "outputs": [
    {
     "data": {
      "image/png": "[encoded data removed]",
      "text/plain": [
       "<Figure size 432x288 with 1 Axes>"
      ]
     },
     "metadata": {
      "needs_background": "light"
     },
     "output_type": "display_data"
    },
    {
     "data": {
      "text/plain": [
       "<matplotlib.axes._subplots.AxesSubplot at 0x28004d74788>"
      ]
     },
     "execution_count": 65,
     "metadata": {},
     "output_type": "execute_result"
    },
    {
     "data": {
      "image/png": "[encoded data removed]",
      "text/plain": [
       "<Figure size 432x288 with 1 Axes>"
      ]
     },
     "metadata": {
      "needs_background": "light"
     },
     "output_type": "display_data"
    }
   ],
   "source": [
    "# gaussian transformation\n",
    "data_tmp['max_time_norm'], _ = stats.boxcox(data_tmp['max_time'])\n",
    "\n",
    "\n",
    "# # AFTER TRANSFORMATION\n",
    "plt.hist(data_tmp['max_time_norm'])\n",
    "plt.show()\n",
    "\n",
    "sns.kdeplot(data_tmp['max_time_norm'], cumulative=False, bw=2)"
   ]
  },
  {
   "cell_type": "code",
   "execution_count": 66,
   "metadata": {},
   "outputs": [
    {
     "name": "stdout",
     "output_type": "stream",
     "text": [
      "+-------------------+-----+-----------------+-----------------+\n",
      "| shopping_amount   |   N |   max_time_norm |   max_time_norm |\n",
      "|                   |     |            mean |             std |\n",
      "+===================+=====+=================+=================+\n",
      "| less              |  61 |            3.24 |            1.42 |\n",
      "+-------------------+-----+-----------------+-----------------+\n",
      "| much              |  44 |            4.71 |            1.41 |\n",
      "+-------------------+-----+-----------------+-----------------+\n",
      "| normal            |  58 |            3.96 |            1.6  |\n",
      "+-------------------+-----+-----------------+-----------------+\n"
     ]
    }
   ],
   "source": [
    "create_1cat_table(data_tmp, 'shopping_amount', 'max_time_norm')"
   ]
  },
  {
   "cell_type": "code",
   "execution_count": 67,
   "metadata": {},
   "outputs": [],
   "source": [
    "lm = smf.ols('max_time_norm ~ shopping_amount', data=data_tmp).fit()"
   ]
  },
  {
   "cell_type": "code",
   "execution_count": 68,
   "metadata": {},
   "outputs": [
    {
     "name": "stdout",
     "output_type": "stream",
     "text": [
      "\n",
      "Homogenit Test\n",
      "F: nan p: nan\n",
      "p-values is non-significant, thus homogenity don't hold\n",
      "\n",
      "\n",
      "Shaprio-Wild Test\n",
      "F: 0.9696 p: 0.0012\n",
      "p-values is non-significant, thus normality of residuals don't hold\n"
     ]
    },
    {
     "data": {
      "image/png": "[encoded data removed]",
      "text/plain": [
       "<Figure size 432x288 with 1 Axes>"
      ]
     },
     "metadata": {
      "needs_background": "light"
     },
     "output_type": "display_data"
    },
    {
     "name": "stdout",
     "output_type": "stream",
     "text": [
      "\n",
      "Independence test\n"
     ]
    },
    {
     "data": {
      "image/png": "[encoded data removed]",
      "text/plain": [
       "<Figure size 432x288 with 1 Axes>"
      ]
     },
     "metadata": {
      "needs_background": "light"
     },
     "output_type": "display_data"
    }
   ],
   "source": [
    "check_anova_assumptions(lm, 'max_time_norm', data_tmp)"
   ]
  },
  {
   "cell_type": "markdown",
   "metadata": {},
   "source": [
    "We can see that normality of residuals and independence of varaibles don't hold. Thus, we'll use non-parametric test.\n",
    "\n",
    "##  Kruskal–Wallis"
   ]
  },
  {
   "cell_type": "code",
   "execution_count": 69,
   "metadata": {},
   "outputs": [],
   "source": [
    "# group original data\n",
    "df = [data_tmp.loc[group, 'max_time'].values for group in data_tmp.groupby('shopping_amount').groups.values()]"
   ]
  },
  {
   "cell_type": "code",
   "execution_count": 70,
   "metadata": {},
   "outputs": [],
   "source": [
    "# group original data\n",
    "df = [data.loc[group, 'max_time'].values for group in data.groupby('shopping_amount').groups.values()]"
   ]
  },
  {
   "cell_type": "code",
   "execution_count": 71,
   "metadata": {},
   "outputs": [
    {
     "data": {
      "text/plain": [
       "[array([ 8, 13, 13,  7,  1, 16, 11,  4, 23,  8, 12,  2, 19, 24, 15, 34,  7,\n",
       "        15,  9, 23, 15, 17,  3, 22, 47, 36, 22,  5,  5,  5,  3,  3, 16, 12,\n",
       "        18,  2, 20,  8, 30,  5,  5, 18, 13, 10,  4,  7, 15, 22, 18, 28,  5,\n",
       "        12,  3, 39, 21, 17, 31, 27, 32,  4,  2], dtype=int64),\n",
       " array([18, 40, 10, 16, 31,  5, 66, 11, 32, 86, 17, 33, 66, 16, 29, 14, 38,\n",
       "         5, 13, 11, 48, 27, 10, 13, 36, 47, 34, 38, 20, 64, 20,  7,  9, 26,\n",
       "        18, 60, 39, 23, 54, 19, 74, 62, 12, 63, 49, 50], dtype=int64),\n",
       " array([24, 26, 39, 12, 36,  8,  6,  4, 33, 15, 14,  5,  3, 44, 30, 10, 22,\n",
       "         3, 38, 35, 64, 47,  8, 28, 32,  4, 20,  6, 51, 49, 11,  5,  5,  9,\n",
       "        64, 17, 24,  7,  7, 36, 36, 29, 30, 52, 49,  7, 29, 13, 12, 23,  6,\n",
       "        50, 10, 13,  8,  7,  4, 11], dtype=int64)]"
      ]
     },
     "execution_count": 71,
     "metadata": {},
     "output_type": "execute_result"
    }
   ],
   "source": [
    "df"
   ]
  },
  {
   "cell_type": "code",
   "execution_count": 72,
   "metadata": {},
   "outputs": [
    {
     "name": "stdout",
     "output_type": "stream",
     "text": [
      "p-value 0.0001\n"
     ]
    }
   ],
   "source": [
    "# group original data\n",
    "df = [data_tmp.loc[group, 'max_time'].values for group in data_tmp.groupby('shopping_amount').groups.values()]\n",
    "\n",
    "\n",
    "_, pvalue = stats.kruskal(*df)\n",
    "\n",
    "print('p-value %.4f' % pvalue)"
   ]
  },
  {
   "cell_type": "markdown",
   "metadata": {},
   "source": [
    "P value tells us we may reject the null hypothesis that the population medians of all of the groups are equal. To learn what shopping amount groups differ in their medians we need to use Conover's post hoc test. \n",
    "\n",
    "## Conover's post hoc"
   ]
  },
  {
   "cell_type": "code",
   "execution_count": 73,
   "metadata": {},
   "outputs": [
    {
     "data": {
      "text/html": [
       "<div>\n",
       "<style scoped>\n",
       "    .dataframe tbody tr th:only-of-type {\n",
       "        vertical-align: middle;\n",
       "    }\n",
       "\n",
       "    .dataframe tbody tr th {\n",
       "        vertical-align: top;\n",
       "    }\n",
       "\n",
       "    .dataframe thead th {\n",
       "        text-align: right;\n",
       "    }\n",
       "</style>\n",
       "<table border=\"1\" class=\"dataframe\">\n",
       "  <thead>\n",
       "    <tr style=\"text-align: right;\">\n",
       "      <th></th>\n",
       "      <th>less</th>\n",
       "      <th>much</th>\n",
       "      <th>normal</th>\n",
       "    </tr>\n",
       "  </thead>\n",
       "  <tbody>\n",
       "    <tr>\n",
       "      <td>less</td>\n",
       "      <td>-1.000000</td>\n",
       "      <td>0.000016</td>\n",
       "      <td>0.029754</td>\n",
       "    </tr>\n",
       "    <tr>\n",
       "      <td>much</td>\n",
       "      <td>0.000016</td>\n",
       "      <td>-1.000000</td>\n",
       "      <td>0.029754</td>\n",
       "    </tr>\n",
       "    <tr>\n",
       "      <td>normal</td>\n",
       "      <td>0.029754</td>\n",
       "      <td>0.029754</td>\n",
       "      <td>-1.000000</td>\n",
       "    </tr>\n",
       "  </tbody>\n",
       "</table>\n",
       "</div>"
      ],
      "text/plain": [
       "            less      much    normal\n",
       "less   -1.000000  0.000016  0.029754\n",
       "much    0.000016 -1.000000  0.029754\n",
       "normal  0.029754  0.029754 -1.000000"
      ]
     },
     "execution_count": 73,
     "metadata": {},
     "output_type": "execute_result"
    }
   ],
   "source": [
    "sp.posthoc_conover(data_tmp, val_col='max_time', group_col='shopping_amount', p_adjust = 'holm')"
   ]
  },
  {
   "cell_type": "markdown",
   "metadata": {},
   "source": [
    "Pairwise comparisons show that we may reject the null hypothesis (p < 0.05) for each pair of shopping amount and conclude that \"heavy\" and \"less\" groups differ uppon max_time."
   ]
  },
  {
   "cell_type": "markdown",
   "metadata": {},
   "source": [
    "# A.8.2 min_time ~ shopping_amount"
   ]
  },
  {
   "cell_type": "code",
   "execution_count": 74,
   "metadata": {},
   "outputs": [],
   "source": [
    "# remove outliersb\n",
    "data_tmp = statUtils.remove_outliers(data_tmp, 'min_time')"
   ]
  },
  {
   "cell_type": "markdown",
   "metadata": {},
   "source": [
    "##  Kruskal–Wallis"
   ]
  },
  {
   "cell_type": "code",
   "execution_count": 75,
   "metadata": {},
   "outputs": [
    {
     "name": "stdout",
     "output_type": "stream",
     "text": [
      "p-value 0.0145\n"
     ]
    }
   ],
   "source": [
    "# group original data\n",
    "df = [data_tmp.loc[group, 'min_time'].values for group in data_tmp.groupby('shopping_amount').groups.values()]\n",
    "_, pvalue = stats.kruskal(*df)\n",
    "\n",
    "print('p-value %.4f' % pvalue)"
   ]
  },
  {
   "cell_type": "markdown",
   "metadata": {},
   "source": [
    "P value tells us we may reject the null hypothesis that the population medians of all of the groups are equal. To learn what shopping amount groups differ in their medians we need to use Conover's post hoc test. \n",
    "\n",
    "## Conover's post hoc"
   ]
  },
  {
   "cell_type": "code",
   "execution_count": 76,
   "metadata": {},
   "outputs": [
    {
     "data": {
      "text/html": [
       "<div>\n",
       "<style scoped>\n",
       "    .dataframe tbody tr th:only-of-type {\n",
       "        vertical-align: middle;\n",
       "    }\n",
       "\n",
       "    .dataframe tbody tr th {\n",
       "        vertical-align: top;\n",
       "    }\n",
       "\n",
       "    .dataframe thead th {\n",
       "        text-align: right;\n",
       "    }\n",
       "</style>\n",
       "<table border=\"1\" class=\"dataframe\">\n",
       "  <thead>\n",
       "    <tr style=\"text-align: right;\">\n",
       "      <th></th>\n",
       "      <th>less</th>\n",
       "      <th>much</th>\n",
       "      <th>normal</th>\n",
       "    </tr>\n",
       "  </thead>\n",
       "  <tbody>\n",
       "    <tr>\n",
       "      <td>less</td>\n",
       "      <td>-1.000000</td>\n",
       "      <td>0.122056</td>\n",
       "      <td>0.013196</td>\n",
       "    </tr>\n",
       "    <tr>\n",
       "      <td>much</td>\n",
       "      <td>0.122056</td>\n",
       "      <td>-1.000000</td>\n",
       "      <td>0.449535</td>\n",
       "    </tr>\n",
       "    <tr>\n",
       "      <td>normal</td>\n",
       "      <td>0.013196</td>\n",
       "      <td>0.449535</td>\n",
       "      <td>-1.000000</td>\n",
       "    </tr>\n",
       "  </tbody>\n",
       "</table>\n",
       "</div>"
      ],
      "text/plain": [
       "            less      much    normal\n",
       "less   -1.000000  0.122056  0.013196\n",
       "much    0.122056 -1.000000  0.449535\n",
       "normal  0.013196  0.449535 -1.000000"
      ]
     },
     "execution_count": 76,
     "metadata": {},
     "output_type": "execute_result"
    }
   ],
   "source": [
    "sp.posthoc_conover(data_tmp, val_col='min_time', group_col='shopping_amount', p_adjust = 'holm')"
   ]
  },
  {
   "cell_type": "code",
   "execution_count": 77,
   "metadata": {},
   "outputs": [
    {
     "name": "stdout",
     "output_type": "stream",
     "text": [
      "+-------------------+-----+------------+------------+\n",
      "| shopping_amount   |   N |   min_time |   min_time |\n",
      "|                   |     |       mean |        std |\n",
      "+===================+=====+============+============+\n",
      "| less              |  61 |      11.34 |       8.71 |\n",
      "+-------------------+-----+------------+------------+\n",
      "| much              |  41 |      15.88 |      11.9  |\n",
      "+-------------------+-----+------------+------------+\n",
      "| normal            |  55 |      17.07 |      10.94 |\n",
      "+-------------------+-----+------------+------------+\n"
     ]
    }
   ],
   "source": [
    "create_1cat_table(data_tmp, 'shopping_amount', 'min_time')"
   ]
  },
  {
   "cell_type": "markdown",
   "metadata": {},
   "source": [
    "Pairwise comparisons show that we may reject the null hypothesis (p < 0.05) for each pair of shopping amount and conclude that (\"heavy\" vs \"less\"), (\"less\" vs \"normal\") and (\"normal\" and less\") groups differ uppon min_time.\n",
    "\n",
    "\n",
    "min_time is the time during shopping when participant reached a minimum heart rate. From 8.1 and 8.2 test we can see that if customers spend more time inside and get surprises/excited eventually, they'll eventually do more grocery, this is somehow the butterfly effect during the shopping."
   ]
  },
  {
   "cell_type": "markdown",
   "metadata": {},
   "source": [
    "# A.9. shopping_dur ~ shopping_amount"
   ]
  },
  {
   "cell_type": "code",
   "execution_count": 78,
   "metadata": {},
   "outputs": [
    {
     "data": {
      "image/png": "[encoded data removed]",
      "text/plain": [
       "<Figure size 432x288 with 1 Axes>"
      ]
     },
     "metadata": {
      "needs_background": "light"
     },
     "output_type": "display_data"
    }
   ],
   "source": [
    "data_tmp = data.copy()\n",
    "# raname shopping duration (in minutes) for easy handling\n",
    "data_tmp=data_tmp.rename(columns = {'shopping duration (in minutes)':'shopping_dur'})\n",
    "\n",
    "# check outliers\n",
    "plt.boxplot(data_tmp['shopping_dur'])\n",
    "plt.show()"
   ]
  },
  {
   "cell_type": "code",
   "execution_count": 79,
   "metadata": {},
   "outputs": [],
   "source": [
    "# remove outliers\n",
    "data_tmp = statUtils.remove_outliers(data_tmp, 'shopping_dur')"
   ]
  },
  {
   "cell_type": "code",
   "execution_count": 80,
   "metadata": {},
   "outputs": [
    {
     "data": {
      "image/png": "[encoded data removed]",
      "text/plain": [
       "<Figure size 432x288 with 1 Axes>"
      ]
     },
     "metadata": {
      "needs_background": "light"
     },
     "output_type": "display_data"
    },
    {
     "data": {
      "text/plain": [
       "<matplotlib.axes._subplots.AxesSubplot at 0x28006131308>"
      ]
     },
     "execution_count": 80,
     "metadata": {},
     "output_type": "execute_result"
    },
    {
     "data": {
      "image/png": "[encoded data removed]",
      "text/plain": [
       "<Figure size 432x288 with 1 Axes>"
      ]
     },
     "metadata": {
      "needs_background": "light"
     },
     "output_type": "display_data"
    }
   ],
   "source": [
    "# BEFORE TRANSFORMATION\n",
    "plt.hist(data_tmp['shopping_dur'])\n",
    "plt.show()\n",
    "\n",
    "sns.kdeplot(data_tmp['shopping_dur'], cumulative=False, bw=2)"
   ]
  },
  {
   "cell_type": "markdown",
   "metadata": {},
   "source": [
    "It's obvious that our resonse var is not normally distributed."
   ]
  },
  {
   "cell_type": "code",
   "execution_count": 81,
   "metadata": {},
   "outputs": [
    {
     "data": {
      "image/png": "[encoded data removed]",
      "text/plain": [
       "<Figure size 432x288 with 1 Axes>"
      ]
     },
     "metadata": {
      "needs_background": "light"
     },
     "output_type": "display_data"
    },
    {
     "data": {
      "text/plain": [
       "<matplotlib.axes._subplots.AxesSubplot at 0x280046c9448>"
      ]
     },
     "execution_count": 81,
     "metadata": {},
     "output_type": "execute_result"
    },
    {
     "data": {
      "image/png": "[encoded data removed]",
      "text/plain": [
       "<Figure size 432x288 with 1 Axes>"
      ]
     },
     "metadata": {
      "needs_background": "light"
     },
     "output_type": "display_data"
    }
   ],
   "source": [
    "# gaussian transformation\n",
    "data_tmp['shopping_dur_norm'], _ = stats.boxcox(data_tmp['shopping_dur'])\n",
    "\n",
    "\n",
    "# # AFTER TRANSFORMATION\n",
    "plt.hist(data_tmp['shopping_dur_norm'])\n",
    "plt.show()\n",
    "\n",
    "sns.kdeplot(data_tmp['shopping_dur_norm'], cumulative=False, bw=2)"
   ]
  },
  {
   "cell_type": "code",
   "execution_count": 82,
   "metadata": {},
   "outputs": [
    {
     "name": "stdout",
     "output_type": "stream",
     "text": [
      "+-------------------+-----+---------------------+---------------------+\n",
      "| shopping_amount   |   N |   shopping_dur_norm |   shopping_dur_norm |\n",
      "|                   |     |                mean |                 std |\n",
      "+===================+=====+=====================+=====================+\n",
      "| less              |  61 |                5.97 |                1.73 |\n",
      "+-------------------+-----+---------------------+---------------------+\n",
      "| much              |  42 |                8.56 |                1.58 |\n",
      "+-------------------+-----+---------------------+---------------------+\n",
      "| normal            |  57 |                7.93 |                1.82 |\n",
      "+-------------------+-----+---------------------+---------------------+\n"
     ]
    }
   ],
   "source": [
    "create_1cat_table(data_tmp, 'shopping_amount', 'shopping_dur_norm')"
   ]
  },
  {
   "cell_type": "code",
   "execution_count": 83,
   "metadata": {},
   "outputs": [],
   "source": [
    "lm = smf.ols('shopping_dur_norm ~ shopping_amount', data=data_tmp).fit()"
   ]
  },
  {
   "cell_type": "code",
   "execution_count": 84,
   "metadata": {},
   "outputs": [
    {
     "name": "stdout",
     "output_type": "stream",
     "text": [
      "\n",
      "Homogenit Test\n",
      "F: nan p: nan\n",
      "p-values is non-significant, thus homogenity don't hold\n",
      "\n",
      "\n",
      "Shaprio-Wild Test\n",
      "F: 0.9874 p: 0.1582\n",
      "p-values is significant, thus residuals are normally distributed\n"
     ]
    },
    {
     "data": {
      "image/png": "[encoded data removed]",
      "text/plain": [
       "<Figure size 432x288 with 1 Axes>"
      ]
     },
     "metadata": {
      "needs_background": "light"
     },
     "output_type": "display_data"
    },
    {
     "name": "stdout",
     "output_type": "stream",
     "text": [
      "\n",
      "Independence test\n"
     ]
    },
    {
     "name": "stderr",
     "output_type": "stream",
     "text": [
      "C:\\ProgramData\\Anaconda3\\lib\\site-packages\\numpy\\lib\\function_base.py:3405: RuntimeWarning: Invalid value encountered in median\n",
      "  r = func(a, **kwargs)\n",
      "C:\\ProgramData\\Anaconda3\\lib\\site-packages\\statsmodels\\nonparametric\\smoothers_lowess.py:165: RuntimeWarning: invalid value encountered in greater_equal\n",
      "  res = _lowess(y, x, frac=frac, it=it, delta=delta)\n"
     ]
    },
    {
     "data": {
      "image/png": "[encoded data removed]",
      "text/plain": [
       "<Figure size 432x288 with 1 Axes>"
      ]
     },
     "metadata": {
      "needs_background": "light"
     },
     "output_type": "display_data"
    }
   ],
   "source": [
    "check_anova_assumptions(lm, 'shopping_dur_norm', data_tmp)"
   ]
  },
  {
   "cell_type": "markdown",
   "metadata": {},
   "source": [
    "As all the assumptions of anova are met, we can do anova test! "
   ]
  },
  {
   "cell_type": "markdown",
   "metadata": {},
   "source": [
    "## Anova"
   ]
  },
  {
   "cell_type": "code",
   "execution_count": 85,
   "metadata": {},
   "outputs": [
    {
     "data": {
      "text/html": [
       "<div>\n",
       "<style scoped>\n",
       "    .dataframe tbody tr th:only-of-type {\n",
       "        vertical-align: middle;\n",
       "    }\n",
       "\n",
       "    .dataframe tbody tr th {\n",
       "        vertical-align: top;\n",
       "    }\n",
       "\n",
       "    .dataframe thead th {\n",
       "        text-align: right;\n",
       "    }\n",
       "</style>\n",
       "<table border=\"1\" class=\"dataframe\">\n",
       "  <thead>\n",
       "    <tr style=\"text-align: right;\">\n",
       "      <th></th>\n",
       "      <th>df</th>\n",
       "      <th>sum_sq</th>\n",
       "      <th>mean_sq</th>\n",
       "      <th>F</th>\n",
       "      <th>PR(&gt;F)</th>\n",
       "    </tr>\n",
       "  </thead>\n",
       "  <tbody>\n",
       "    <tr>\n",
       "      <td>shopping_amount</td>\n",
       "      <td>2.0</td>\n",
       "      <td>198.162869</td>\n",
       "      <td>99.081435</td>\n",
       "      <td>32.66123</td>\n",
       "      <td>1.380164e-12</td>\n",
       "    </tr>\n",
       "    <tr>\n",
       "      <td>Residual</td>\n",
       "      <td>157.0</td>\n",
       "      <td>476.276777</td>\n",
       "      <td>3.033610</td>\n",
       "      <td>NaN</td>\n",
       "      <td>NaN</td>\n",
       "    </tr>\n",
       "  </tbody>\n",
       "</table>\n",
       "</div>"
      ],
      "text/plain": [
       "                    df      sum_sq    mean_sq         F        PR(>F)\n",
       "shopping_amount    2.0  198.162869  99.081435  32.66123  1.380164e-12\n",
       "Residual         157.0  476.276777   3.033610       NaN           NaN"
      ]
     },
     "execution_count": 85,
     "metadata": {},
     "output_type": "execute_result"
    }
   ],
   "source": [
    "sm.stats.anova_lm(lm, type=1)"
   ]
  },
  {
   "cell_type": "markdown",
   "metadata": {},
   "source": [
    "As the ANOVA tels that effect of shopping duration on shopping amount is important. Now using Tukey HSD we can find which groups are significantly different from each other"
   ]
  },
  {
   "cell_type": "markdown",
   "metadata": {},
   "source": [
    "## Tukey Hsd"
   ]
  },
  {
   "cell_type": "code",
   "execution_count": 86,
   "metadata": {},
   "outputs": [
    {
     "name": "stdout",
     "output_type": "stream",
     "text": [
      "Multiple Comparison of Means - Tukey HSD, FWER=0.05\n",
      "===================================================\n",
      "group1 group2 meandiff p-adj   lower  upper  reject\n",
      "---------------------------------------------------\n",
      "  less   much   2.5985  0.001  1.7721 3.4249   True\n",
      "  less normal    1.967  0.001  1.2077 2.7263   True\n",
      "  much normal  -0.6315 0.1788 -1.4696 0.2067  False\n",
      "---------------------------------------------------\n"
     ]
    }
   ],
   "source": [
    "print(pairwise_tukeyhsd(data_tmp['shopping_dur_norm'], data_tmp['shopping_amount'], alpha=0.05))"
   ]
  },
  {
   "cell_type": "markdown",
   "metadata": {},
   "source": [
    "We can see that when customer spend more time inside they're more likely to shop a lot. It appears cutomers do more/normal shopping when they spend more time. Well, it's not that suprising."
   ]
  },
  {
   "cell_type": "markdown",
   "metadata": {},
   "source": [
    "# B. ON CATEGORICAL VARS\n",
    "\n",
    "Chi-square test is a non-parametric (distribution-free) method used to compare the relationship between the two categorical (nominal) variables in a contingency table. Using this, we’ll try to understand whether two categorical variables are dependent or independent (thee is association between the two variables or not). If the assumptions of Chi-Square test don't hold, we'll use McNamara’s Test or simply doing pooling on some groups.\n",
    "\n",
    "**Hypotheses**:\n",
    "* Null hypotheses: The two categorical variables are independent (no association between the two variables)\n",
    "* Alternative hypotheses: The two categorical variables are dependent (there is an association between the two variables)\n",
    "\n",
    "**Assumptions**:\n",
    "\n",
    "* expected frequencies should not be too small (usually > 5)\n",
    "* independent observations\n"
   ]
  },
  {
   "cell_type": "markdown",
   "metadata": {},
   "source": [
    "# B.1 shopping_cart ~ shopping_amount"
   ]
  },
  {
   "cell_type": "code",
   "execution_count": 87,
   "metadata": {},
   "outputs": [
    {
     "data": {
      "text/html": [
       "<div>\n",
       "<style scoped>\n",
       "    .dataframe tbody tr th:only-of-type {\n",
       "        vertical-align: middle;\n",
       "    }\n",
       "\n",
       "    .dataframe tbody tr th {\n",
       "        vertical-align: top;\n",
       "    }\n",
       "\n",
       "    .dataframe thead th {\n",
       "        text-align: right;\n",
       "    }\n",
       "</style>\n",
       "<table border=\"1\" class=\"dataframe\">\n",
       "  <thead>\n",
       "    <tr style=\"text-align: right;\">\n",
       "      <th>shopping_amount</th>\n",
       "      <th>less</th>\n",
       "      <th>much</th>\n",
       "      <th>normal</th>\n",
       "    </tr>\n",
       "    <tr>\n",
       "      <th>shopping_cart</th>\n",
       "      <th></th>\n",
       "      <th></th>\n",
       "      <th></th>\n",
       "    </tr>\n",
       "  </thead>\n",
       "  <tbody>\n",
       "    <tr>\n",
       "      <td>no</td>\n",
       "      <td>38</td>\n",
       "      <td>18</td>\n",
       "      <td>10</td>\n",
       "    </tr>\n",
       "    <tr>\n",
       "      <td>yes</td>\n",
       "      <td>23</td>\n",
       "      <td>28</td>\n",
       "      <td>48</td>\n",
       "    </tr>\n",
       "  </tbody>\n",
       "</table>\n",
       "</div>"
      ],
      "text/plain": [
       "shopping_amount  less  much  normal\n",
       "shopping_cart                      \n",
       "no                 38    18      10\n",
       "yes                23    28      48"
      ]
     },
     "execution_count": 87,
     "metadata": {},
     "output_type": "execute_result"
    }
   ],
   "source": [
    "table=pd.crosstab(data['shopping_cart'], data['shopping_amount'], )\n",
    "table"
   ]
  },
  {
   "cell_type": "code",
   "execution_count": 88,
   "metadata": {},
   "outputs": [
    {
     "name": "stdout",
     "output_type": "stream",
     "text": [
      "df=2\n",
      "\n",
      "Expected values:\n",
      "\n",
      "shopping_amount  less  much  normal\n",
      "shopping_cart                      \n",
      "no               24.4  18.4    23.2\n",
      "yes              36.6  27.6    34.8\n",
      "\n",
      "chi=25.1656, p-value=0.0000\n",
      "\n",
      "At significance=0.050, reject null hypotheses: thus categorical variables are dependent\n"
     ]
    }
   ],
   "source": [
    "statUtils.chi_squared_test(table)"
   ]
  },
  {
   "cell_type": "markdown",
   "metadata": {},
   "source": [
    "We can see that customers those takes shoping cart are doing more shopping."
   ]
  },
  {
   "cell_type": "markdown",
   "metadata": {},
   "source": [
    "# B.2 cash_point ~ shopping_amount"
   ]
  },
  {
   "cell_type": "code",
   "execution_count": 89,
   "metadata": {},
   "outputs": [
    {
     "data": {
      "text/html": [
       "<div>\n",
       "<style scoped>\n",
       "    .dataframe tbody tr th:only-of-type {\n",
       "        vertical-align: middle;\n",
       "    }\n",
       "\n",
       "    .dataframe tbody tr th {\n",
       "        vertical-align: top;\n",
       "    }\n",
       "\n",
       "    .dataframe thead th {\n",
       "        text-align: right;\n",
       "    }\n",
       "</style>\n",
       "<table border=\"1\" class=\"dataframe\">\n",
       "  <thead>\n",
       "    <tr style=\"text-align: right;\">\n",
       "      <th>cash_point</th>\n",
       "      <th>free</th>\n",
       "      <th>full</th>\n",
       "      <th>normal</th>\n",
       "    </tr>\n",
       "    <tr>\n",
       "      <th>shopping_amount</th>\n",
       "      <th></th>\n",
       "      <th></th>\n",
       "      <th></th>\n",
       "    </tr>\n",
       "  </thead>\n",
       "  <tbody>\n",
       "    <tr>\n",
       "      <td>less</td>\n",
       "      <td>25</td>\n",
       "      <td>3</td>\n",
       "      <td>33</td>\n",
       "    </tr>\n",
       "    <tr>\n",
       "      <td>much</td>\n",
       "      <td>6</td>\n",
       "      <td>7</td>\n",
       "      <td>33</td>\n",
       "    </tr>\n",
       "    <tr>\n",
       "      <td>normal</td>\n",
       "      <td>15</td>\n",
       "      <td>2</td>\n",
       "      <td>41</td>\n",
       "    </tr>\n",
       "  </tbody>\n",
       "</table>\n",
       "</div>"
      ],
      "text/plain": [
       "cash_point       free  full  normal\n",
       "shopping_amount                    \n",
       "less               25     3      33\n",
       "much                6     7      33\n",
       "normal             15     2      41"
      ]
     },
     "execution_count": 89,
     "metadata": {},
     "output_type": "execute_result"
    }
   ],
   "source": [
    "table=pd.crosstab(data['shopping_amount'], data['cash_point'], )\n",
    "table"
   ]
  },
  {
   "cell_type": "markdown",
   "metadata": {},
   "source": [
    "#### Pooling\n",
    "\n",
    "As the frequency for \"full\" is small (<5), it makes sense to pool it together with the \"normal\"."
   ]
  },
  {
   "cell_type": "code",
   "execution_count": 90,
   "metadata": {},
   "outputs": [
    {
     "data": {
      "text/html": [
       "<div>\n",
       "<style scoped>\n",
       "    .dataframe tbody tr th:only-of-type {\n",
       "        vertical-align: middle;\n",
       "    }\n",
       "\n",
       "    .dataframe tbody tr th {\n",
       "        vertical-align: top;\n",
       "    }\n",
       "\n",
       "    .dataframe thead th {\n",
       "        text-align: right;\n",
       "    }\n",
       "</style>\n",
       "<table border=\"1\" class=\"dataframe\">\n",
       "  <thead>\n",
       "    <tr style=\"text-align: right;\">\n",
       "      <th>cash_point</th>\n",
       "      <th>free</th>\n",
       "      <th>normal+</th>\n",
       "    </tr>\n",
       "    <tr>\n",
       "      <th>shopping_amount</th>\n",
       "      <th></th>\n",
       "      <th></th>\n",
       "    </tr>\n",
       "  </thead>\n",
       "  <tbody>\n",
       "    <tr>\n",
       "      <td>less</td>\n",
       "      <td>25</td>\n",
       "      <td>36</td>\n",
       "    </tr>\n",
       "    <tr>\n",
       "      <td>much</td>\n",
       "      <td>6</td>\n",
       "      <td>40</td>\n",
       "    </tr>\n",
       "    <tr>\n",
       "      <td>normal</td>\n",
       "      <td>15</td>\n",
       "      <td>43</td>\n",
       "    </tr>\n",
       "  </tbody>\n",
       "</table>\n",
       "</div>"
      ],
      "text/plain": [
       "cash_point       free  normal+\n",
       "shopping_amount               \n",
       "less               25       36\n",
       "much                6       40\n",
       "normal             15       43"
      ]
     },
     "execution_count": 90,
     "metadata": {},
     "output_type": "execute_result"
    }
   ],
   "source": [
    "data_tmp = data.copy()\n",
    "\n",
    "data_tmp.loc[(data_tmp.cash_point == \"full\") | (data_tmp.cash_point == \"normal\")\\\n",
    "         , \"cash_point\"] = \"normal+\"\n",
    "\n",
    "table=pd.crosstab(data_tmp['shopping_amount'], data_tmp['cash_point'], )\n",
    "table"
   ]
  },
  {
   "cell_type": "code",
   "execution_count": 91,
   "metadata": {},
   "outputs": [
    {
     "name": "stdout",
     "output_type": "stream",
     "text": [
      "df=2\n",
      "\n",
      "Expected values:\n",
      "\n",
      "cash_point            free    normal+\n",
      "shopping_amount                      \n",
      "less             17.006061  43.993939\n",
      "much             12.824242  33.175758\n",
      "normal           16.169697  41.830303\n",
      "\n",
      "chi=10.3627, p-value=0.0056\n",
      "\n",
      "At significance=0.050, reject null hypotheses: thus categorical variables are dependent\n"
     ]
    }
   ],
   "source": [
    "statUtils.chi_squared_test(table)"
   ]
  },
  {
   "cell_type": "markdown",
   "metadata": {},
   "source": [
    "We can see that when cashpoints are fully or normally occupied, people are prone to do more shopping, maybe that is because they don't want to spend more time waiting on the cashpoint instead walk around, eventually buy something.\n",
    "\n",
    "# B.3 smoking ~ shopping_amount"
   ]
  },
  {
   "cell_type": "code",
   "execution_count": 92,
   "metadata": {},
   "outputs": [
    {
     "data": {
      "text/html": [
       "<div>\n",
       "<style scoped>\n",
       "    .dataframe tbody tr th:only-of-type {\n",
       "        vertical-align: middle;\n",
       "    }\n",
       "\n",
       "    .dataframe tbody tr th {\n",
       "        vertical-align: top;\n",
       "    }\n",
       "\n",
       "    .dataframe thead th {\n",
       "        text-align: right;\n",
       "    }\n",
       "</style>\n",
       "<table border=\"1\" class=\"dataframe\">\n",
       "  <thead>\n",
       "    <tr style=\"text-align: right;\">\n",
       "      <th>smoking</th>\n",
       "      <th>0</th>\n",
       "      <th>1</th>\n",
       "    </tr>\n",
       "    <tr>\n",
       "      <th>shopping_amount</th>\n",
       "      <th></th>\n",
       "      <th></th>\n",
       "    </tr>\n",
       "  </thead>\n",
       "  <tbody>\n",
       "    <tr>\n",
       "      <td>less</td>\n",
       "      <td>40</td>\n",
       "      <td>21</td>\n",
       "    </tr>\n",
       "    <tr>\n",
       "      <td>much</td>\n",
       "      <td>29</td>\n",
       "      <td>17</td>\n",
       "    </tr>\n",
       "    <tr>\n",
       "      <td>normal</td>\n",
       "      <td>35</td>\n",
       "      <td>23</td>\n",
       "    </tr>\n",
       "  </tbody>\n",
       "</table>\n",
       "</div>"
      ],
      "text/plain": [
       "smoking           0   1\n",
       "shopping_amount        \n",
       "less             40  21\n",
       "much             29  17\n",
       "normal           35  23"
      ]
     },
     "execution_count": 92,
     "metadata": {},
     "output_type": "execute_result"
    }
   ],
   "source": [
    "table=pd.crosstab(data['shopping_amount'], data['smoking'], )\n",
    "table"
   ]
  },
  {
   "cell_type": "code",
   "execution_count": 93,
   "metadata": {},
   "outputs": [
    {
     "name": "stdout",
     "output_type": "stream",
     "text": [
      "df=2\n",
      "\n",
      "Expected values:\n",
      "\n",
      "smoking                  0          1\n",
      "shopping_amount                      \n",
      "less             38.448485  22.551515\n",
      "much             28.993939  17.006061\n",
      "normal           36.557576  21.442424\n",
      "\n",
      "chi=0.3489, p-value=0.8399\n",
      "\n",
      "At significance=0.050, accept null hypotheses: thus categorical variables are independent\n"
     ]
    }
   ],
   "source": [
    "# chi squared\n",
    "statUtils.chi_squared_test(table)"
   ]
  },
  {
   "cell_type": "markdown",
   "metadata": {},
   "source": [
    "We can see that categorical varaibles are independent, that means being a smoker, or non-smoker don't have any effect on shopping amount.\n",
    "\n",
    "# B.4 shopping_frequency  ~ shopping_amount"
   ]
  },
  {
   "cell_type": "code",
   "execution_count": 94,
   "metadata": {},
   "outputs": [
    {
     "data": {
      "text/html": [
       "<div>\n",
       "<style scoped>\n",
       "    .dataframe tbody tr th:only-of-type {\n",
       "        vertical-align: middle;\n",
       "    }\n",
       "\n",
       "    .dataframe tbody tr th {\n",
       "        vertical-align: top;\n",
       "    }\n",
       "\n",
       "    .dataframe thead th {\n",
       "        text-align: right;\n",
       "    }\n",
       "</style>\n",
       "<table border=\"1\" class=\"dataframe\">\n",
       "  <thead>\n",
       "    <tr style=\"text-align: right;\">\n",
       "      <th>shopping_amount</th>\n",
       "      <th>less</th>\n",
       "      <th>much</th>\n",
       "      <th>normal</th>\n",
       "    </tr>\n",
       "    <tr>\n",
       "      <th>shopping_frequency</th>\n",
       "      <th></th>\n",
       "      <th></th>\n",
       "      <th></th>\n",
       "    </tr>\n",
       "  </thead>\n",
       "  <tbody>\n",
       "    <tr>\n",
       "      <td>regularly</td>\n",
       "      <td>52</td>\n",
       "      <td>42</td>\n",
       "      <td>51</td>\n",
       "    </tr>\n",
       "    <tr>\n",
       "      <td>seldom</td>\n",
       "      <td>9</td>\n",
       "      <td>4</td>\n",
       "      <td>7</td>\n",
       "    </tr>\n",
       "  </tbody>\n",
       "</table>\n",
       "</div>"
      ],
      "text/plain": [
       "shopping_amount     less  much  normal\n",
       "shopping_frequency                    \n",
       "regularly             52    42      51\n",
       "seldom                 9     4       7"
      ]
     },
     "execution_count": 94,
     "metadata": {},
     "output_type": "execute_result"
    }
   ],
   "source": [
    "table=pd.crosstab(data['shopping_amount'], data['shopping_frequency'], )\n",
    "table.T"
   ]
  },
  {
   "cell_type": "markdown",
   "metadata": {},
   "source": [
    "As the frequency for \"seldom\" is small, we'll use mcnemar test."
   ]
  },
  {
   "cell_type": "code",
   "execution_count": 95,
   "metadata": {},
   "outputs": [
    {
     "name": "stdout",
     "output_type": "stream",
     "text": [
      "statistic=0.0000, p-value=1.0000\n",
      "\n",
      "At significance=0.0500, accept null hypotheses: categories do not have impact on each other\n"
     ]
    }
   ],
   "source": [
    "# mcnemar test\n",
    "statUtils.mcnemar_test(table.T)"
   ]
  },
  {
   "cell_type": "markdown",
   "metadata": {},
   "source": [
    "McNemar's test suggest that going to shopping seldom or regularly doesn't have impact on shopping amount."
   ]
  },
  {
   "cell_type": "markdown",
   "metadata": {},
   "source": [
    "# B.5 attendants ~ shopping_amount"
   ]
  },
  {
   "cell_type": "code",
   "execution_count": 96,
   "metadata": {},
   "outputs": [
    {
     "data": {
      "text/html": [
       "<div>\n",
       "<style scoped>\n",
       "    .dataframe tbody tr th:only-of-type {\n",
       "        vertical-align: middle;\n",
       "    }\n",
       "\n",
       "    .dataframe tbody tr th {\n",
       "        vertical-align: top;\n",
       "    }\n",
       "\n",
       "    .dataframe thead th {\n",
       "        text-align: right;\n",
       "    }\n",
       "</style>\n",
       "<table border=\"1\" class=\"dataframe\">\n",
       "  <thead>\n",
       "    <tr style=\"text-align: right;\">\n",
       "      <th>attendants</th>\n",
       "      <th>family</th>\n",
       "      <th>family member</th>\n",
       "      <th>life partner</th>\n",
       "      <th>little child</th>\n",
       "      <th>no</th>\n",
       "    </tr>\n",
       "    <tr>\n",
       "      <th>shopping_amount</th>\n",
       "      <th></th>\n",
       "      <th></th>\n",
       "      <th></th>\n",
       "      <th></th>\n",
       "      <th></th>\n",
       "    </tr>\n",
       "  </thead>\n",
       "  <tbody>\n",
       "    <tr>\n",
       "      <td>less</td>\n",
       "      <td>1</td>\n",
       "      <td>5</td>\n",
       "      <td>13</td>\n",
       "      <td>1</td>\n",
       "      <td>41</td>\n",
       "    </tr>\n",
       "    <tr>\n",
       "      <td>much</td>\n",
       "      <td>7</td>\n",
       "      <td>5</td>\n",
       "      <td>18</td>\n",
       "      <td>2</td>\n",
       "      <td>14</td>\n",
       "    </tr>\n",
       "    <tr>\n",
       "      <td>normal</td>\n",
       "      <td>5</td>\n",
       "      <td>5</td>\n",
       "      <td>22</td>\n",
       "      <td>3</td>\n",
       "      <td>23</td>\n",
       "    </tr>\n",
       "  </tbody>\n",
       "</table>\n",
       "</div>"
      ],
      "text/plain": [
       "attendants       family  family member  life partner  little child  no\n",
       "shopping_amount                                                       \n",
       "less                  1              5            13             1  41\n",
       "much                  7              5            18             2  14\n",
       "normal                5              5            22             3  23"
      ]
     },
     "execution_count": 96,
     "metadata": {},
     "output_type": "execute_result"
    }
   ],
   "source": [
    "table=pd.crosstab(data['shopping_amount'], data['attendants'], )\n",
    "table"
   ]
  },
  {
   "cell_type": "markdown",
   "metadata": {},
   "source": [
    "#### Pooling\n",
    "\n",
    "We se that the frequency for all the attendats groups except \"no\" is small (<5), it makes sense to pool all of the as \"yes\" group. Doing so, we'll try to see wheter going alone or with someone has impact on shopping amount."
   ]
  },
  {
   "cell_type": "code",
   "execution_count": 97,
   "metadata": {},
   "outputs": [
    {
     "data": {
      "text/html": [
       "<div>\n",
       "<style scoped>\n",
       "    .dataframe tbody tr th:only-of-type {\n",
       "        vertical-align: middle;\n",
       "    }\n",
       "\n",
       "    .dataframe tbody tr th {\n",
       "        vertical-align: top;\n",
       "    }\n",
       "\n",
       "    .dataframe thead th {\n",
       "        text-align: right;\n",
       "    }\n",
       "</style>\n",
       "<table border=\"1\" class=\"dataframe\">\n",
       "  <thead>\n",
       "    <tr style=\"text-align: right;\">\n",
       "      <th>attendants</th>\n",
       "      <th>no</th>\n",
       "      <th>yes</th>\n",
       "    </tr>\n",
       "    <tr>\n",
       "      <th>shopping_amount</th>\n",
       "      <th></th>\n",
       "      <th></th>\n",
       "    </tr>\n",
       "  </thead>\n",
       "  <tbody>\n",
       "    <tr>\n",
       "      <td>less</td>\n",
       "      <td>41</td>\n",
       "      <td>20</td>\n",
       "    </tr>\n",
       "    <tr>\n",
       "      <td>much</td>\n",
       "      <td>14</td>\n",
       "      <td>32</td>\n",
       "    </tr>\n",
       "    <tr>\n",
       "      <td>normal</td>\n",
       "      <td>23</td>\n",
       "      <td>35</td>\n",
       "    </tr>\n",
       "  </tbody>\n",
       "</table>\n",
       "</div>"
      ],
      "text/plain": [
       "attendants       no  yes\n",
       "shopping_amount         \n",
       "less             41   20\n",
       "much             14   32\n",
       "normal           23   35"
      ]
     },
     "execution_count": 97,
     "metadata": {},
     "output_type": "execute_result"
    }
   ],
   "source": [
    "data_tmp = data.copy()\n",
    "\n",
    "data_tmp.loc[data_tmp.attendants != \"no\", \"attendants\"] = \"yes\"\n",
    "\n",
    "table=pd.crosstab(data_tmp['shopping_amount'], data_tmp['attendants'], )\n",
    "table"
   ]
  },
  {
   "cell_type": "code",
   "execution_count": 98,
   "metadata": {},
   "outputs": [
    {
     "name": "stdout",
     "output_type": "stream",
     "text": [
      "df=2\n",
      "\n",
      "Expected values:\n",
      "\n",
      "attendants              no        yes\n",
      "shopping_amount                      \n",
      "less             28.836364  32.163636\n",
      "much             21.745455  24.254545\n",
      "normal           27.418182  30.581818\n",
      "\n",
      "chi=16.3134, p-value=0.0003\n",
      "\n",
      "At significance=0.050, reject null hypotheses: thus categorical variables are dependent\n"
     ]
    }
   ],
   "source": [
    "# chi squared\n",
    "statUtils.chi_squared_test(table)"
   ]
  },
  {
   "cell_type": "markdown",
   "metadata": {},
   "source": [
    "As we can see that going shopping with the accompany of someone has an impact on the amount of shopping being made."
   ]
  },
  {
   "cell_type": "markdown",
   "metadata": {},
   "source": [
    "# B6. gender ~ shopping_amount"
   ]
  },
  {
   "cell_type": "code",
   "execution_count": 99,
   "metadata": {},
   "outputs": [
    {
     "data": {
      "text/html": [
       "<div>\n",
       "<style scoped>\n",
       "    .dataframe tbody tr th:only-of-type {\n",
       "        vertical-align: middle;\n",
       "    }\n",
       "\n",
       "    .dataframe tbody tr th {\n",
       "        vertical-align: top;\n",
       "    }\n",
       "\n",
       "    .dataframe thead th {\n",
       "        text-align: right;\n",
       "    }\n",
       "</style>\n",
       "<table border=\"1\" class=\"dataframe\">\n",
       "  <thead>\n",
       "    <tr style=\"text-align: right;\">\n",
       "      <th>gender</th>\n",
       "      <th>female</th>\n",
       "      <th>male</th>\n",
       "    </tr>\n",
       "    <tr>\n",
       "      <th>shopping_amount</th>\n",
       "      <th></th>\n",
       "      <th></th>\n",
       "    </tr>\n",
       "  </thead>\n",
       "  <tbody>\n",
       "    <tr>\n",
       "      <td>less</td>\n",
       "      <td>26</td>\n",
       "      <td>35</td>\n",
       "    </tr>\n",
       "    <tr>\n",
       "      <td>much</td>\n",
       "      <td>26</td>\n",
       "      <td>20</td>\n",
       "    </tr>\n",
       "    <tr>\n",
       "      <td>normal</td>\n",
       "      <td>36</td>\n",
       "      <td>22</td>\n",
       "    </tr>\n",
       "  </tbody>\n",
       "</table>\n",
       "</div>"
      ],
      "text/plain": [
       "gender           female  male\n",
       "shopping_amount              \n",
       "less                 26    35\n",
       "much                 26    20\n",
       "normal               36    22"
      ]
     },
     "execution_count": 99,
     "metadata": {},
     "output_type": "execute_result"
    }
   ],
   "source": [
    "table=pd.crosstab(data['shopping_amount'], data['gender'], )\n",
    "table"
   ]
  },
  {
   "cell_type": "code",
   "execution_count": 100,
   "metadata": {},
   "outputs": [
    {
     "name": "stdout",
     "output_type": "stream",
     "text": [
      "df=2\n",
      "\n",
      "Expected values:\n",
      "\n",
      "gender              female       male\n",
      "shopping_amount                      \n",
      "less             32.533333  28.466667\n",
      "much             24.533333  21.466667\n",
      "normal           30.933333  27.066667\n",
      "\n",
      "chi=4.7777, p-value=0.0917\n",
      "\n",
      "At significance=0.050, accept null hypotheses: thus categorical variables are independent\n"
     ]
    }
   ],
   "source": [
    "# chi squared\n",
    "statUtils.chi_squared_test(table)"
   ]
  },
  {
   "cell_type": "markdown",
   "metadata": {},
   "source": [
    "Chi-squared test suggest us that the amount of shopping done desn't vary upon gender."
   ]
  },
  {
   "cell_type": "markdown",
   "metadata": {},
   "source": [
    "# B.7 reaching HRmax ~ shoppin_amount"
   ]
  },
  {
   "cell_type": "code",
   "execution_count": 101,
   "metadata": {},
   "outputs": [
    {
     "data": {
      "text/html": [
       "<div>\n",
       "<style scoped>\n",
       "    .dataframe tbody tr th:only-of-type {\n",
       "        vertical-align: middle;\n",
       "    }\n",
       "\n",
       "    .dataframe tbody tr th {\n",
       "        vertical-align: top;\n",
       "    }\n",
       "\n",
       "    .dataframe thead th {\n",
       "        text-align: right;\n",
       "    }\n",
       "</style>\n",
       "<table border=\"1\" class=\"dataframe\">\n",
       "  <thead>\n",
       "    <tr style=\"text-align: right;\">\n",
       "      <th>reaching HRmax</th>\n",
       "      <th>0</th>\n",
       "      <th>1</th>\n",
       "    </tr>\n",
       "    <tr>\n",
       "      <th>shopping_amount</th>\n",
       "      <th></th>\n",
       "      <th></th>\n",
       "    </tr>\n",
       "  </thead>\n",
       "  <tbody>\n",
       "    <tr>\n",
       "      <td>less</td>\n",
       "      <td>37</td>\n",
       "      <td>24</td>\n",
       "    </tr>\n",
       "    <tr>\n",
       "      <td>much</td>\n",
       "      <td>15</td>\n",
       "      <td>31</td>\n",
       "    </tr>\n",
       "    <tr>\n",
       "      <td>normal</td>\n",
       "      <td>30</td>\n",
       "      <td>28</td>\n",
       "    </tr>\n",
       "  </tbody>\n",
       "</table>\n",
       "</div>"
      ],
      "text/plain": [
       "reaching HRmax    0   1\n",
       "shopping_amount        \n",
       "less             37  24\n",
       "much             15  31\n",
       "normal           30  28"
      ]
     },
     "execution_count": 101,
     "metadata": {},
     "output_type": "execute_result"
    }
   ],
   "source": [
    "table=pd.crosstab(data['shopping_amount'], data['reaching HRmax'], )\n",
    "table"
   ]
  },
  {
   "cell_type": "code",
   "execution_count": 102,
   "metadata": {},
   "outputs": [
    {
     "name": "stdout",
     "output_type": "stream",
     "text": [
      "df=2\n",
      "\n",
      "Expected values:\n",
      "\n",
      "reaching HRmax           0          1\n",
      "shopping_amount                      \n",
      "less             30.315152  30.684848\n",
      "much             22.860606  23.139394\n",
      "normal           28.824242  29.175758\n",
      "\n",
      "chi=8.3989, p-value=0.0150\n",
      "\n",
      "At significance=0.050, reject null hypotheses: thus categorical variables are dependent\n"
     ]
    }
   ],
   "source": [
    "# chi squared\n",
    "statUtils.chi_squared_test(table)"
   ]
  },
  {
   "cell_type": "markdown",
   "metadata": {},
   "source": [
    "Test suggest that racing HRmax has an impact on shopping amount. This most probably because when people get more excited/happy during shopping they shop more."
   ]
  },
  {
   "cell_type": "markdown",
   "metadata": {},
   "source": [
    "# B.8 daytime ~ shoppin_amount"
   ]
  },
  {
   "cell_type": "code",
   "execution_count": 103,
   "metadata": {},
   "outputs": [
    {
     "data": {
      "text/html": [
       "<div>\n",
       "<style scoped>\n",
       "    .dataframe tbody tr th:only-of-type {\n",
       "        vertical-align: middle;\n",
       "    }\n",
       "\n",
       "    .dataframe tbody tr th {\n",
       "        vertical-align: top;\n",
       "    }\n",
       "\n",
       "    .dataframe thead th {\n",
       "        text-align: right;\n",
       "    }\n",
       "</style>\n",
       "<table border=\"1\" class=\"dataframe\">\n",
       "  <thead>\n",
       "    <tr style=\"text-align: right;\">\n",
       "      <th>daytime</th>\n",
       "      <th>evening</th>\n",
       "      <th>morning</th>\n",
       "      <th>noon</th>\n",
       "    </tr>\n",
       "    <tr>\n",
       "      <th>shopping_amount</th>\n",
       "      <th></th>\n",
       "      <th></th>\n",
       "      <th></th>\n",
       "    </tr>\n",
       "  </thead>\n",
       "  <tbody>\n",
       "    <tr>\n",
       "      <td>less</td>\n",
       "      <td>18</td>\n",
       "      <td>13</td>\n",
       "      <td>30</td>\n",
       "    </tr>\n",
       "    <tr>\n",
       "      <td>much</td>\n",
       "      <td>21</td>\n",
       "      <td>6</td>\n",
       "      <td>19</td>\n",
       "    </tr>\n",
       "    <tr>\n",
       "      <td>normal</td>\n",
       "      <td>18</td>\n",
       "      <td>8</td>\n",
       "      <td>32</td>\n",
       "    </tr>\n",
       "  </tbody>\n",
       "</table>\n",
       "</div>"
      ],
      "text/plain": [
       "daytime          evening  morning  noon\n",
       "shopping_amount                        \n",
       "less                  18       13    30\n",
       "much                  21        6    19\n",
       "normal                18        8    32"
      ]
     },
     "execution_count": 103,
     "metadata": {},
     "output_type": "execute_result"
    }
   ],
   "source": [
    "table=pd.crosstab(data['shopping_amount'], data['daytime'], )\n",
    "table"
   ]
  },
  {
   "cell_type": "code",
   "execution_count": 104,
   "metadata": {},
   "outputs": [
    {
     "name": "stdout",
     "output_type": "stream",
     "text": [
      "df=4\n",
      "\n",
      "Expected values:\n",
      "\n",
      "daytime            evening   morning       noon\n",
      "shopping_amount                                \n",
      "less             21.072727  9.981818  29.945455\n",
      "much             15.890909  7.527273  22.581818\n",
      "normal           20.036364  9.490909  28.472727\n",
      "\n",
      "chi=4.7595, p-value=0.3129\n",
      "\n",
      "At significance=0.050, accept null hypotheses: thus categorical variables are independent\n"
     ]
    }
   ],
   "source": [
    "# chi squared\n",
    "statUtils.chi_squared_test(table)"
   ]
  },
  {
   "cell_type": "markdown",
   "metadata": {},
   "source": [
    "There is no dependence between daytime and shopping amount."
   ]
  },
  {
   "cell_type": "markdown",
   "metadata": {},
   "source": [
    "# B.9 weekday ~ shopping_amount"
   ]
  },
  {
   "cell_type": "code",
   "execution_count": 105,
   "metadata": {},
   "outputs": [
    {
     "data": {
      "text/html": [
       "<div>\n",
       "<style scoped>\n",
       "    .dataframe tbody tr th:only-of-type {\n",
       "        vertical-align: middle;\n",
       "    }\n",
       "\n",
       "    .dataframe tbody tr th {\n",
       "        vertical-align: top;\n",
       "    }\n",
       "\n",
       "    .dataframe thead th {\n",
       "        text-align: right;\n",
       "    }\n",
       "</style>\n",
       "<table border=\"1\" class=\"dataframe\">\n",
       "  <thead>\n",
       "    <tr style=\"text-align: right;\">\n",
       "      <th>weekday</th>\n",
       "      <th>friday</th>\n",
       "      <th>monday</th>\n",
       "      <th>saturday</th>\n",
       "      <th>thursday</th>\n",
       "      <th>tuesday</th>\n",
       "      <th>wednesday</th>\n",
       "    </tr>\n",
       "    <tr>\n",
       "      <th>shopping_amount</th>\n",
       "      <th></th>\n",
       "      <th></th>\n",
       "      <th></th>\n",
       "      <th></th>\n",
       "      <th></th>\n",
       "      <th></th>\n",
       "    </tr>\n",
       "  </thead>\n",
       "  <tbody>\n",
       "    <tr>\n",
       "      <td>less</td>\n",
       "      <td>9</td>\n",
       "      <td>10</td>\n",
       "      <td>12</td>\n",
       "      <td>11</td>\n",
       "      <td>10</td>\n",
       "      <td>9</td>\n",
       "    </tr>\n",
       "    <tr>\n",
       "      <td>much</td>\n",
       "      <td>13</td>\n",
       "      <td>5</td>\n",
       "      <td>8</td>\n",
       "      <td>6</td>\n",
       "      <td>4</td>\n",
       "      <td>10</td>\n",
       "    </tr>\n",
       "    <tr>\n",
       "      <td>normal</td>\n",
       "      <td>13</td>\n",
       "      <td>8</td>\n",
       "      <td>14</td>\n",
       "      <td>13</td>\n",
       "      <td>6</td>\n",
       "      <td>4</td>\n",
       "    </tr>\n",
       "  </tbody>\n",
       "</table>\n",
       "</div>"
      ],
      "text/plain": [
       "weekday          friday  monday  saturday  thursday  tuesday  wednesday\n",
       "shopping_amount                                                        \n",
       "less                  9      10        12        11       10          9\n",
       "much                 13       5         8         6        4         10\n",
       "normal               13       8        14        13        6          4"
      ]
     },
     "execution_count": 105,
     "metadata": {},
     "output_type": "execute_result"
    }
   ],
   "source": [
    "table=pd.crosstab(data['shopping_amount'], data['weekday'], )\n",
    "table"
   ]
  },
  {
   "cell_type": "markdown",
   "metadata": {},
   "source": [
    "#### Pooling\n",
    "\n",
    "We see that the frequency for some groups is small (<5), it makes sense to pool all some of the group which may show a similar pattern. Thus we'll pool \"friday\" and \"saturday\" together as \"weekend\" and the rest as \"weekday\""
   ]
  },
  {
   "cell_type": "code",
   "execution_count": 106,
   "metadata": {},
   "outputs": [
    {
     "data": {
      "text/html": [
       "<div>\n",
       "<style scoped>\n",
       "    .dataframe tbody tr th:only-of-type {\n",
       "        vertical-align: middle;\n",
       "    }\n",
       "\n",
       "    .dataframe tbody tr th {\n",
       "        vertical-align: top;\n",
       "    }\n",
       "\n",
       "    .dataframe thead th {\n",
       "        text-align: right;\n",
       "    }\n",
       "</style>\n",
       "<table border=\"1\" class=\"dataframe\">\n",
       "  <thead>\n",
       "    <tr style=\"text-align: right;\">\n",
       "      <th>weekday</th>\n",
       "      <th>weekday</th>\n",
       "      <th>weekend</th>\n",
       "    </tr>\n",
       "    <tr>\n",
       "      <th>shopping_amount</th>\n",
       "      <th></th>\n",
       "      <th></th>\n",
       "    </tr>\n",
       "  </thead>\n",
       "  <tbody>\n",
       "    <tr>\n",
       "      <td>less</td>\n",
       "      <td>40</td>\n",
       "      <td>21</td>\n",
       "    </tr>\n",
       "    <tr>\n",
       "      <td>much</td>\n",
       "      <td>25</td>\n",
       "      <td>21</td>\n",
       "    </tr>\n",
       "    <tr>\n",
       "      <td>normal</td>\n",
       "      <td>31</td>\n",
       "      <td>27</td>\n",
       "    </tr>\n",
       "  </tbody>\n",
       "</table>\n",
       "</div>"
      ],
      "text/plain": [
       "weekday          weekday  weekend\n",
       "shopping_amount                  \n",
       "less                  40       21\n",
       "much                  25       21\n",
       "normal                31       27"
      ]
     },
     "execution_count": 106,
     "metadata": {},
     "output_type": "execute_result"
    }
   ],
   "source": [
    "data_tmp = data.copy()\n",
    "\n",
    "data_tmp.loc[(data_tmp.weekday == \"friday\") | (data_tmp.weekday == \"saturday\"), \"weekday\"] = \"weekend\"\n",
    "\n",
    "data_tmp.loc[data_tmp.weekday != \"weekend\", \"weekday\"] = \"weekday\"\n",
    "\n",
    "table=pd.crosstab(data_tmp['shopping_amount'], data_tmp['weekday'], )\n",
    "table"
   ]
  },
  {
   "cell_type": "code",
   "execution_count": 107,
   "metadata": {},
   "outputs": [
    {
     "name": "stdout",
     "output_type": "stream",
     "text": [
      "df=2\n",
      "\n",
      "Expected values:\n",
      "\n",
      "weekday            weekday    weekend\n",
      "shopping_amount                      \n",
      "less             35.490909  25.509091\n",
      "much             26.763636  19.236364\n",
      "normal           33.745455  24.254545\n",
      "\n",
      "chi=2.1820, p-value=0.3359\n",
      "\n",
      "At significance=0.050, accept null hypotheses: thus categorical variables are independent\n"
     ]
    }
   ],
   "source": [
    "# chi squared\n",
    "statUtils.chi_squared_test(table)"
   ]
  },
  {
   "cell_type": "markdown",
   "metadata": {},
   "source": [
    "We can see that created weekday groups don't have an impact on shopping amount. This can be explained by the reason that although people have more time during weekends, they always need something to buy regardless of the day of the week. "
   ]
  },
  {
   "cell_type": "code",
   "execution_count": null,
   "metadata": {},
   "outputs": [],
   "source": []
  },
  {
   "cell_type": "code",
   "execution_count": null,
   "metadata": {},
   "outputs": [],
   "source": []
  },
  {
   "cell_type": "code",
   "execution_count": null,
   "metadata": {},
   "outputs": [],
   "source": []
  },
  {
   "cell_type": "code",
   "execution_count": null,
   "metadata": {},
   "outputs": [],
   "source": []
  }
 ],
 "metadata": {
  "kernelspec": {
   "display_name": "Python 3",
   "language": "python",
   "name": "python3"
  },
  "language_info": {
   "codemirror_mode": {
    "name": "ipython",
    "version": 3
   },
   "file_extension": ".py",
   "mimetype": "text/x-python",
   "name": "python",
   "nbconvert_exporter": "python",
   "pygments_lexer": "ipython3",
   "version": "3.7.4"
  }
 },
 "nbformat": 4,
 "nbformat_minor": 2
}
